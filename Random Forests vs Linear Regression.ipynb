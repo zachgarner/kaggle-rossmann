{
 "cells": [
  {
   "cell_type": "code",
   "execution_count": 1,
   "metadata": {
    "collapsed": true
   },
   "outputs": [],
   "source": [
    "# PyData\n",
    "import pandas\n",
    "import numpy\n",
    "from pandas import DataFrame, Series\n",
    "from sklearn import datasets, linear_model, preprocessing, cross_validation\n",
    "from sklearn.ensemble import RandomForestRegressor, ExtraTreesRegressor\n",
    "from sklearn.linear_model import LinearRegression, Ridge\n",
    "\n",
    "# System\n",
    "import datetime\n",
    "import os\n",
    "import math\n",
    "\n",
    "# Graphing\n",
    "%matplotlib inline \n",
    "import seaborn\n",
    "\n",
    "# Spark\n",
    "# import pyspark\n",
    "# from pyspark.sql import SQLContext\n",
    "\n",
    "# from pyspark.ml import Pipeline\n",
    "# from pyspark.ml.regression import RandomForestRegressor\n",
    "# from pyspark.ml.feature import VectorIndexer\n",
    "# from pyspark.ml.evaluation import RegressionEvaluator\n",
    "# from pyspark.mllib.util import MLUtils\n",
    "# from pyspark.mllib.regression import LabeledPoint\n",
    "\n",
    "# sc = pyspark.SparkContext('local[8]')\n",
    "# sqlContext = SQLContext(sc)"
   ]
  },
  {
   "cell_type": "markdown",
   "metadata": {},
   "source": [
    "### Random Forests is popular for problems that have non-linear solutions. How do they perform on linear problems?\n"
   ]
  },
  {
   "cell_type": "markdown",
   "metadata": {},
   "source": [
    "## The simplest linear problem\n",
    "\n",
    "To warm up, let's model the easiest problem possible: y = x"
   ]
  },
  {
   "cell_type": "code",
   "execution_count": 2,
   "metadata": {
    "collapsed": true
   },
   "outputs": [],
   "source": [
    "values = []\n",
    "for i in range (0, 1000):\n",
    "    values = values + [i]"
   ]
  },
  {
   "cell_type": "code",
   "execution_count": 3,
   "metadata": {
    "collapsed": false
   },
   "outputs": [
    {
     "data": {
      "text/html": [
       "<div>\n",
       "<table border=\"1\" class=\"dataframe\">\n",
       "  <thead>\n",
       "    <tr style=\"text-align: right;\">\n",
       "      <th></th>\n",
       "      <th>Actual</th>\n",
       "      <th>Predictor</th>\n",
       "    </tr>\n",
       "  </thead>\n",
       "  <tbody>\n",
       "    <tr>\n",
       "      <th>0</th>\n",
       "      <td>0</td>\n",
       "      <td>0</td>\n",
       "    </tr>\n",
       "    <tr>\n",
       "      <th>1</th>\n",
       "      <td>1</td>\n",
       "      <td>1</td>\n",
       "    </tr>\n",
       "    <tr>\n",
       "      <th>2</th>\n",
       "      <td>2</td>\n",
       "      <td>2</td>\n",
       "    </tr>\n",
       "    <tr>\n",
       "      <th>3</th>\n",
       "      <td>3</td>\n",
       "      <td>3</td>\n",
       "    </tr>\n",
       "    <tr>\n",
       "      <th>4</th>\n",
       "      <td>4</td>\n",
       "      <td>4</td>\n",
       "    </tr>\n",
       "  </tbody>\n",
       "</table>\n",
       "</div>"
      ],
      "text/plain": [
       "   Actual  Predictor\n",
       "0       0          0\n",
       "1       1          1\n",
       "2       2          2\n",
       "3       3          3\n",
       "4       4          4"
      ]
     },
     "execution_count": 3,
     "metadata": {},
     "output_type": "execute_result"
    }
   ],
   "source": [
    "all_df = DataFrame.from_dict({\"Actual\": values, \"Predictor\": values})\n",
    "all_df.head()"
   ]
  },
  {
   "cell_type": "code",
   "execution_count": 4,
   "metadata": {
    "collapsed": false
   },
   "outputs": [],
   "source": [
    "train, test = cross_validation.train_test_split(all_df)\n",
    "train = train.sort()\n",
    "test = test.sort()"
   ]
  },
  {
   "cell_type": "markdown",
   "metadata": {},
   "source": [
    "Not surprisingly, Linear regression gets a perfect score"
   ]
  },
  {
   "cell_type": "code",
   "execution_count": 5,
   "metadata": {
    "collapsed": true
   },
   "outputs": [],
   "source": [
    "def score(prediction, actual):\n",
    "    pcts = (actual - prediction) / actual\n",
    "    return math.sqrt( (pcts * pcts).mean() )\n"
   ]
  },
  {
   "cell_type": "code",
   "execution_count": 7,
   "metadata": {
    "collapsed": false
   },
   "outputs": [
    {
     "name": "stdout",
     "output_type": "stream",
     "text": [
      "Cross Validation Score:  1.0\n",
      "Test RMSPE:  2.1075795787320918e-15\n"
     ]
    }
   ],
   "source": [
    "regressor = LinearRegression()\n",
    "print (\"Cross Validation Score: \", cross_validation.cross_val_score(regressor, train[['Predictor']], train['Actual'], n_jobs=-1).mean())\n",
    "\n",
    "\n",
    "regressor.fit(train[['Predictor']], train['Actual'])\n",
    "test['Prediction-LinearRegression'] = regressor.predict(test[['Predictor']])\n",
    "print (\"Test RMSPE: \", score(test['Prediction-LinearRegression'], test['Actual']))\n",
    "\n"
   ]
  },
  {
   "cell_type": "markdown",
   "metadata": {},
   "source": [
    "Random forests flop."
   ]
  },
  {
   "cell_type": "code",
   "execution_count": null,
   "metadata": {
    "collapsed": true
   },
   "outputs": [],
   "source": []
  },
  {
   "cell_type": "code",
   "execution_count": 8,
   "metadata": {
    "collapsed": false
   },
   "outputs": [
    {
     "name": "stdout",
     "output_type": "stream",
     "text": [
      "Cross Validation Score:  -1.96374249647\n",
      "Test RMSPE:  0.01428864957459743\n"
     ]
    }
   ],
   "source": [
    "regressor = RandomForestRegressor(n_estimators=100)\n",
    "print (\"Cross Validation Score: \", cross_validation.cross_val_score(regressor, train[['Predictor']], train['Actual'], n_jobs=-1).mean())\n",
    "\n",
    "regressor.fit(train[['Predictor']], train['Actual'])\n",
    "test['Prediction-RandomForest'] = regressor.predict(test[['Predictor']])\n",
    "print (\"Test RMSPE: \", score(test['Prediction-RandomForest'], test['Actual']))"
   ]
  },
  {
   "cell_type": "markdown",
   "metadata": {},
   "source": [
    "I often find better results with SciKit's Extra Trees regressor. Experimenting with hyperparameters is usually worthwhile.\n"
   ]
  },
  {
   "cell_type": "code",
   "execution_count": 9,
   "metadata": {
    "collapsed": false
   },
   "outputs": [
    {
     "name": "stdout",
     "output_type": "stream",
     "text": [
      "Cross Validation Score:  -1.62742319924\n",
      "Test RMSPE:  0.002759360874809161\n"
     ]
    }
   ],
   "source": [
    "regressor = ExtraTreesRegressor(n_estimators=100)\n",
    "\n",
    "print (\"Cross Validation Score: \", cross_validation.cross_val_score(regressor, train[['Predictor']], train['Actual'], n_jobs=-1).mean())\n",
    "\n",
    "regressor.fit(train[['Predictor']], train['Actual'])\n",
    "test['Prediction-ExtraTrees'] = regressor.predict(test[['Predictor']])\n",
    "print (\"Test RMSPE: \", score(test['Prediction-ExtraTrees'], test['Actual']))"
   ]
  },
  {
   "cell_type": "code",
   "execution_count": null,
   "metadata": {
    "collapsed": false
   },
   "outputs": [],
   "source": [
    "test.plot()\n"
   ]
  },
  {
   "cell_type": "markdown",
   "metadata": {},
   "source": [
    "##### [GRAPHS]"
   ]
  },
  {
   "cell_type": "markdown",
   "metadata": {},
   "source": [
    "### Stir with randomness"
   ]
  },
  {
   "cell_type": "code",
   "execution_count": 17,
   "metadata": {
    "collapsed": false
   },
   "outputs": [],
   "source": [
    "\n",
    "# Add some noise, by adding or removing a few perecent of randomness\n",
    "# Create gaussian randomness, with mean=1, stdev=.1\n",
    "\n",
    "random_percents = numpy.random.normal(1, .1, len(train['Predictor'] ))\n",
    "train['Random'] = random_percents\n",
    "train['Predictor-Rnd'] = train['Predictor'] * random_percents\n",
    "\n",
    "random_percents = numpy.random.normal(1, .1, len(test['Predictor'] ))\n",
    "test['Random'] = random_percents\n",
    "test['Predictor-Rnd'] = test['Predictor'] * random_percents\n"
   ]
  },
  {
   "cell_type": "markdown",
   "metadata": {},
   "source": [
    "The data is \"roughly\" the same, and Linear Regression should do great."
   ]
  },
  {
   "cell_type": "markdown",
   "metadata": {},
   "source": [
    "what's the actual error introduced by randomness:"
   ]
  },
  {
   "cell_type": "code",
   "execution_count": 18,
   "metadata": {
    "collapsed": false
   },
   "outputs": [
    {
     "data": {
      "text/plain": [
       "0.10363934541265082"
      ]
     },
     "execution_count": 18,
     "metadata": {},
     "output_type": "execute_result"
    }
   ],
   "source": [
    "score(train['Predictor-Rnd'], train['Actual'])"
   ]
  },
  {
   "cell_type": "markdown",
   "metadata": {},
   "source": [
    "There's no surprise: the average error is equal to the stdev of our random series"
   ]
  },
  {
   "cell_type": "code",
   "execution_count": 19,
   "metadata": {
    "collapsed": false
   },
   "outputs": [
    {
     "name": "stdout",
     "output_type": "stream",
     "text": [
      "Cross Validation Score:  0.493137491452\n",
      "Test RMSPE:  0.3601612793949942\n"
     ]
    }
   ],
   "source": [
    "regressor = LinearRegression()\n",
    "print (\"Cross Validation Score: \", cross_validation.cross_val_score(regressor, train[['Predictor-Rnd']], train['Actual'], n_jobs=-1).mean())\n",
    "\n",
    "regressor.fit(train[['Predictor-Rnd']], train['Actual'])\n",
    "test['Prediction-LinearRegression'] = regressor.predict(test[['Predictor-Rnd']])\n",
    "print (\"Test RMSPE: \", score(test['Prediction-LinearRegression'], test['Actual']))"
   ]
  },
  {
   "cell_type": "code",
   "execution_count": 20,
   "metadata": {
    "collapsed": false
   },
   "outputs": [
    {
     "name": "stdout",
     "output_type": "stream",
     "text": [
      "Cross Validation Score:  -2.39079215879\n",
      "Test RMSPE:  0.13836775018433242\n"
     ]
    }
   ],
   "source": [
    "regressor = ExtraTreesRegressor(n_estimators=50)\n",
    "print (\"Cross Validation Score: \", cross_validation.cross_val_score(regressor, train[['Predictor-Rnd']], train['Actual'], n_jobs=-1).mean())\n",
    "\n",
    "regressor.fit(train[['Predictor-Rnd']], train['Actual'])\n",
    "test['Prediction-ExtraTrees'] = regressor.predict(test[['Predictor-Rnd']])\n",
    "print (\"Test RMSPE: \", score(test['Prediction-ExtraTrees'], test['Actual']))"
   ]
  },
  {
   "cell_type": "markdown",
   "metadata": {},
   "source": [
    "What if we give the model a hint: we tell it what the random scaling was"
   ]
  },
  {
   "cell_type": "code",
   "execution_count": 27,
   "metadata": {
    "collapsed": false
   },
   "outputs": [
    {
     "name": "stdout",
     "output_type": "stream",
     "text": [
      "Cross Validation Score:  0.756845572826\n",
      "Test RMSPE:  0.9925517607141426\n"
     ]
    }
   ],
   "source": [
    "regressor = LinearRegression()\n",
    "features = ['Predictor-Rnd', 'Random']\n",
    "print (\"Cross Validation Score: \", cross_validation.cross_val_score(regressor, train[features], train['Actual'], n_jobs=-1).mean())\n",
    "\n",
    "regressor.fit(train[features], train['Actual'])\n",
    "test['Prediction-LinearRegression'] = regressor.predict(test[features])\n",
    "print (\"Test RMSPE: \", score(test['Prediction-LinearRegression'], test['Actual']))"
   ]
  },
  {
   "cell_type": "markdown",
   "metadata": {},
   "source": [
    "Linear Regression actually gets worse when we give it the hint of random"
   ]
  },
  {
   "cell_type": "code",
   "execution_count": 33,
   "metadata": {
    "collapsed": false
   },
   "outputs": [
    {
     "name": "stdout",
     "output_type": "stream",
     "text": [
      "Cross Validation Score:  -1.94586594326\n",
      "Test RMSPE:  0.025160345419728884\n"
     ]
    }
   ],
   "source": [
    "regressor = ExtraTreesRegressor(n_estimators=50)\n",
    "features = ['Predictor-Rnd', 'Random']\n",
    "print (\"Cross Validation Score: \", cross_validation.cross_val_score(regressor, train[features], train['Actual'], n_jobs=-1).mean())\n",
    "\n",
    "regressor.fit(train[features], train['Actual'])\n",
    "test['Prediction-ExtraTrees'] = regressor.predict(test[features])\n",
    "print (\"Test RMSPE: \", score(test['Prediction-ExtraTrees'], test['Actual']))"
   ]
  },
  {
   "cell_type": "markdown",
   "metadata": {},
   "source": [
    "## Results:\n",
    "- With a purely linear mapping, Linear Regression performs best\n",
    "- With some noise, Extra Trees performs better\n",
    "- When there's noise, plus a feature that \"explains\" the noise, Extra Trees performs even better, while Linear Regression degrades\n",
    "- Still: with predictors fully explaining the results, it doesn't quite hit perfection"
   ]
  },
  {
   "cell_type": "markdown",
   "metadata": {},
   "source": [
    "# What if we built an ensemble?"
   ]
  },
  {
   "cell_type": "markdown",
   "metadata": {},
   "source": [
    "## Linear Regression on top of Linear Estimates from multiple models rocks."
   ]
  },
  {
   "cell_type": "markdown",
   "metadata": {},
   "source": [
    "## What if we add a chunk of non-linear"
   ]
  },
  {
   "cell_type": "code",
   "execution_count": null,
   "metadata": {
    "collapsed": false
   },
   "outputs": [],
   "source": [
    "df.head()"
   ]
  },
  {
   "cell_type": "code",
   "execution_count": null,
   "metadata": {
    "collapsed": true
   },
   "outputs": [],
   "source": [
    "def reduceIfSmall\n",
    "df['Predictor-nonlinear'] = df['Predictor'].map(lambda x)"
   ]
  }
 ],
 "metadata": {
  "kernelspec": {
   "display_name": "Python 3",
   "language": "python",
   "name": "python3"
  },
  "language_info": {
   "codemirror_mode": {
    "name": "ipython",
    "version": 3
   },
   "file_extension": ".py",
   "mimetype": "text/x-python",
   "name": "python",
   "nbconvert_exporter": "python",
   "pygments_lexer": "ipython3",
   "version": "3.4.3"
  }
 },
 "nbformat": 4,
 "nbformat_minor": 0
}
