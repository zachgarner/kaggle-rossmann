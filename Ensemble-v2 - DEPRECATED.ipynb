{
 "cells": [
  {
   "cell_type": "code",
   "execution_count": 4,
   "metadata": {
    "collapsed": true
   },
   "outputs": [],
   "source": [
    "import pandas\n",
    "from pandas import DataFrame\n",
    "%matplotlib inline\n",
    "import seaborn\n",
    "from sklearn.ensemble import ExtraTreesRegressor\n",
    "from sklearn.linear_model import LinearRegression\n",
    "from sklearn.linear_model import Ridge\n",
    "from sklearn import cross_validation\n",
    "\n",
    "import numpy\n",
    "import math"
   ]
  },
  {
   "cell_type": "code",
   "execution_count": 5,
   "metadata": {
    "collapsed": false
   },
   "outputs": [
    {
     "name": "stderr",
     "output_type": "stream",
     "text": [
      "/opt/conda/lib/python3.4/site-packages/pandas/io/parsers.py:1170: DtypeWarning: Columns (7) have mixed types. Specify dtype option on import or set low_memory=False.\n",
      "  data = self._reader.read(nrows)\n"
     ]
    },
    {
     "data": {
      "text/html": [
       "<div>\n",
       "<table border=\"1\" class=\"dataframe\">\n",
       "  <thead>\n",
       "    <tr style=\"text-align: right;\">\n",
       "      <th></th>\n",
       "      <th>Store</th>\n",
       "      <th>Date</th>\n",
       "      <th>DayOfWeek</th>\n",
       "      <th>Sales</th>\n",
       "      <th>Customers</th>\n",
       "      <th>Open</th>\n",
       "      <th>Promo</th>\n",
       "      <th>StateHoliday</th>\n",
       "      <th>SchoolHoliday</th>\n",
       "    </tr>\n",
       "  </thead>\n",
       "  <tbody>\n",
       "    <tr>\n",
       "      <th>0</th>\n",
       "      <td>1</td>\n",
       "      <td>2015-07-31</td>\n",
       "      <td>5</td>\n",
       "      <td>5263</td>\n",
       "      <td>555</td>\n",
       "      <td>1</td>\n",
       "      <td>1</td>\n",
       "      <td>0</td>\n",
       "      <td>1</td>\n",
       "    </tr>\n",
       "    <tr>\n",
       "      <th>1</th>\n",
       "      <td>2</td>\n",
       "      <td>2015-07-31</td>\n",
       "      <td>5</td>\n",
       "      <td>6064</td>\n",
       "      <td>625</td>\n",
       "      <td>1</td>\n",
       "      <td>1</td>\n",
       "      <td>0</td>\n",
       "      <td>1</td>\n",
       "    </tr>\n",
       "    <tr>\n",
       "      <th>2</th>\n",
       "      <td>3</td>\n",
       "      <td>2015-07-31</td>\n",
       "      <td>5</td>\n",
       "      <td>8314</td>\n",
       "      <td>821</td>\n",
       "      <td>1</td>\n",
       "      <td>1</td>\n",
       "      <td>0</td>\n",
       "      <td>1</td>\n",
       "    </tr>\n",
       "    <tr>\n",
       "      <th>3</th>\n",
       "      <td>4</td>\n",
       "      <td>2015-07-31</td>\n",
       "      <td>5</td>\n",
       "      <td>13995</td>\n",
       "      <td>1498</td>\n",
       "      <td>1</td>\n",
       "      <td>1</td>\n",
       "      <td>0</td>\n",
       "      <td>1</td>\n",
       "    </tr>\n",
       "    <tr>\n",
       "      <th>4</th>\n",
       "      <td>5</td>\n",
       "      <td>2015-07-31</td>\n",
       "      <td>5</td>\n",
       "      <td>4822</td>\n",
       "      <td>559</td>\n",
       "      <td>1</td>\n",
       "      <td>1</td>\n",
       "      <td>0</td>\n",
       "      <td>1</td>\n",
       "    </tr>\n",
       "  </tbody>\n",
       "</table>\n",
       "</div>"
      ],
      "text/plain": [
       "   Store       Date  DayOfWeek  Sales  Customers  Open  Promo StateHoliday  \\\n",
       "0      1 2015-07-31          5   5263        555     1      1            0   \n",
       "1      2 2015-07-31          5   6064        625     1      1            0   \n",
       "2      3 2015-07-31          5   8314        821     1      1            0   \n",
       "3      4 2015-07-31          5  13995       1498     1      1            0   \n",
       "4      5 2015-07-31          5   4822        559     1      1            0   \n",
       "\n",
       "   SchoolHoliday  \n",
       "0              1  \n",
       "1              1  \n",
       "2              1  \n",
       "3              1  \n",
       "4              1  "
      ]
     },
     "execution_count": 5,
     "metadata": {},
     "output_type": "execute_result"
    }
   ],
   "source": [
    "train_all_df = DataFrame.from_csv(\"train.csv\", index_col=['Store', 'Date'], parse_dates=['Date'])\n",
    "train_all_df.reset_index(inplace=True)\n",
    "train_all_df.head()"
   ]
  },
  {
   "cell_type": "code",
   "execution_count": null,
   "metadata": {
    "collapsed": true
   },
   "outputs": [],
   "source": []
  },
  {
   "cell_type": "code",
   "execution_count": 6,
   "metadata": {
    "collapsed": true
   },
   "outputs": [],
   "source": [
    "def featurize(df):\n",
    "    df = df.copy()\n",
    "    def featurizeStateHoliday(x):\n",
    "        if x == 'a':\n",
    "            return 1\n",
    "        elif x == 'b':\n",
    "            return 2\n",
    "        elif x == 'c':\n",
    "            return 3\n",
    "        else:\n",
    "            return x\n",
    "    df['StateHoliday'] = df['StateHoliday'].map(lambda x: featurizeStateHoliday(x))\n",
    "    \n",
    "\n",
    "    def featurizeDate(ts): \n",
    "        features = {}\n",
    "        features['cal:dayOfMonth'] = ts.day\n",
    "        features['cal:dayOfWeek'] = ts.dayofweek\n",
    "        features['cal:dayofyear'] = ts.dayofyear\n",
    "        features['cal:month'] = ts.month\n",
    "        features['cal:year'] = ts.year\n",
    "        features['cal:weekofyear'] =  ts.weekofyear\n",
    "        features['cal:quarter'] = ts.quarter\n",
    "\n",
    "        return features\n",
    "\n",
    "    date_features_series = df['Date'].map(lambda x: featurizeDate(x))\n",
    "    date_features = DataFrame.from_records(date_features_series.tolist(), index=df['Date'])\n",
    "\n",
    "    df = pandas.concat([df, date_features.reset_index()], axis=1)\n",
    "\n",
    "    del df['Date']\n",
    "    \n",
    "    return df"
   ]
  },
  {
   "cell_type": "code",
   "execution_count": 7,
   "metadata": {
    "collapsed": false
   },
   "outputs": [
    {
     "data": {
      "text/html": [
       "<div>\n",
       "<table border=\"1\" class=\"dataframe\">\n",
       "  <thead>\n",
       "    <tr style=\"text-align: right;\">\n",
       "      <th></th>\n",
       "      <th>Store</th>\n",
       "      <th>DayOfWeek</th>\n",
       "      <th>Sales</th>\n",
       "      <th>Customers</th>\n",
       "      <th>Open</th>\n",
       "      <th>Promo</th>\n",
       "      <th>StateHoliday</th>\n",
       "      <th>SchoolHoliday</th>\n",
       "      <th>cal:dayOfMonth</th>\n",
       "      <th>cal:dayOfWeek</th>\n",
       "      <th>cal:dayofyear</th>\n",
       "      <th>cal:month</th>\n",
       "      <th>cal:quarter</th>\n",
       "      <th>cal:weekofyear</th>\n",
       "      <th>cal:year</th>\n",
       "    </tr>\n",
       "  </thead>\n",
       "  <tbody>\n",
       "    <tr>\n",
       "      <th>0</th>\n",
       "      <td>1</td>\n",
       "      <td>5</td>\n",
       "      <td>5263</td>\n",
       "      <td>555</td>\n",
       "      <td>1</td>\n",
       "      <td>1</td>\n",
       "      <td>0</td>\n",
       "      <td>1</td>\n",
       "      <td>31</td>\n",
       "      <td>4</td>\n",
       "      <td>212</td>\n",
       "      <td>7</td>\n",
       "      <td>3</td>\n",
       "      <td>31</td>\n",
       "      <td>2015</td>\n",
       "    </tr>\n",
       "    <tr>\n",
       "      <th>1</th>\n",
       "      <td>2</td>\n",
       "      <td>5</td>\n",
       "      <td>6064</td>\n",
       "      <td>625</td>\n",
       "      <td>1</td>\n",
       "      <td>1</td>\n",
       "      <td>0</td>\n",
       "      <td>1</td>\n",
       "      <td>31</td>\n",
       "      <td>4</td>\n",
       "      <td>212</td>\n",
       "      <td>7</td>\n",
       "      <td>3</td>\n",
       "      <td>31</td>\n",
       "      <td>2015</td>\n",
       "    </tr>\n",
       "    <tr>\n",
       "      <th>2</th>\n",
       "      <td>3</td>\n",
       "      <td>5</td>\n",
       "      <td>8314</td>\n",
       "      <td>821</td>\n",
       "      <td>1</td>\n",
       "      <td>1</td>\n",
       "      <td>0</td>\n",
       "      <td>1</td>\n",
       "      <td>31</td>\n",
       "      <td>4</td>\n",
       "      <td>212</td>\n",
       "      <td>7</td>\n",
       "      <td>3</td>\n",
       "      <td>31</td>\n",
       "      <td>2015</td>\n",
       "    </tr>\n",
       "    <tr>\n",
       "      <th>3</th>\n",
       "      <td>4</td>\n",
       "      <td>5</td>\n",
       "      <td>13995</td>\n",
       "      <td>1498</td>\n",
       "      <td>1</td>\n",
       "      <td>1</td>\n",
       "      <td>0</td>\n",
       "      <td>1</td>\n",
       "      <td>31</td>\n",
       "      <td>4</td>\n",
       "      <td>212</td>\n",
       "      <td>7</td>\n",
       "      <td>3</td>\n",
       "      <td>31</td>\n",
       "      <td>2015</td>\n",
       "    </tr>\n",
       "    <tr>\n",
       "      <th>4</th>\n",
       "      <td>5</td>\n",
       "      <td>5</td>\n",
       "      <td>4822</td>\n",
       "      <td>559</td>\n",
       "      <td>1</td>\n",
       "      <td>1</td>\n",
       "      <td>0</td>\n",
       "      <td>1</td>\n",
       "      <td>31</td>\n",
       "      <td>4</td>\n",
       "      <td>212</td>\n",
       "      <td>7</td>\n",
       "      <td>3</td>\n",
       "      <td>31</td>\n",
       "      <td>2015</td>\n",
       "    </tr>\n",
       "  </tbody>\n",
       "</table>\n",
       "</div>"
      ],
      "text/plain": [
       "   Store  DayOfWeek  Sales  Customers  Open  Promo StateHoliday  \\\n",
       "0      1          5   5263        555     1      1            0   \n",
       "1      2          5   6064        625     1      1            0   \n",
       "2      3          5   8314        821     1      1            0   \n",
       "3      4          5  13995       1498     1      1            0   \n",
       "4      5          5   4822        559     1      1            0   \n",
       "\n",
       "   SchoolHoliday  cal:dayOfMonth  cal:dayOfWeek  cal:dayofyear  cal:month  \\\n",
       "0              1              31              4            212          7   \n",
       "1              1              31              4            212          7   \n",
       "2              1              31              4            212          7   \n",
       "3              1              31              4            212          7   \n",
       "4              1              31              4            212          7   \n",
       "\n",
       "   cal:quarter  cal:weekofyear  cal:year  \n",
       "0            3              31      2015  \n",
       "1            3              31      2015  \n",
       "2            3              31      2015  \n",
       "3            3              31      2015  \n",
       "4            3              31      2015  "
      ]
     },
     "execution_count": 7,
     "metadata": {},
     "output_type": "execute_result"
    }
   ],
   "source": [
    "train_all_df = featurize(train_all_df)\n",
    "\n",
    "train_df, test_df = cross_validation.train_test_split(train_all_df, train_size=.9)\n",
    "\n",
    "# train_individual_df, train_ensemble_df = cross_validation.train_test_split(train_df, train_size=.5)\n",
    "\n",
    "train_all_df.head()"
   ]
  },
  {
   "cell_type": "code",
   "execution_count": 8,
   "metadata": {
    "collapsed": true
   },
   "outputs": [],
   "source": [
    "def score(predicted, actual): # RootMeanSquaredPercentError RMSPE\n",
    "    score_df = DataFrame.from_dict({\"Predicted\": predicted, \"Actual\": actual})\n",
    "    score_df = score_df[score_df['Actual'] != 0]\n",
    "    score_df['PercentError'] =  (score_df['Actual'] - score_df['Predicted']) / score_df['Actual']\n",
    "    score_df['PercentErrorSquared'] = score_df['PercentError'] * score_df['PercentError']\n",
    "    \n",
    "    return math.sqrt(score_df['PercentErrorSquared'].mean())"
   ]
  },
  {
   "cell_type": "markdown",
   "metadata": {},
   "source": [
    "# One Big Model"
   ]
  },
  {
   "cell_type": "code",
   "execution_count": 9,
   "metadata": {
    "collapsed": false
   },
   "outputs": [
    {
     "data": {
      "text/plain": [
       "0.5560559625926835"
      ]
     },
     "execution_count": 9,
     "metadata": {},
     "output_type": "execute_result"
    }
   ],
   "source": [
    "features = [col for col in train_df.columns if col != 'Sales' and col != 'Customers']\n",
    "regressor_big = ExtraTreesRegressor(n_estimators=100, n_jobs=-1)\n",
    "regressor_big.fit(train_df[features], train_df['Sales'])\n",
    "score(predicted=regressor_big.predict(test_df[features]), actual=test_df['Sales'])"
   ]
  },
  {
   "cell_type": "markdown",
   "metadata": {},
   "source": [
    "# Per store model\n"
   ]
  },
  {
   "cell_type": "code",
   "execution_count": 10,
   "metadata": {
    "collapsed": false
   },
   "outputs": [
    {
     "name": "stdout",
     "output_type": "stream",
     "text": [
      "0\n",
      "100\n",
      "200\n",
      "300\n",
      "400\n",
      "500\n",
      "600\n",
      "700\n",
      "800\n",
      "900\n",
      "1000\n",
      "1100\n"
     ]
    }
   ],
   "source": [
    "\n",
    "regressors = {}\n",
    "features = [col for col in train_df.columns if col != 'Sales' and col != 'Customers']\n",
    "i = 0\n",
    "for store in train_df['Store'].unique():\n",
    "\n",
    "    if (i % 100 == 0):\n",
    "        print (i)\n",
    "    i = i + 1\n",
    "    \n",
    "    store_train_df = train_df[train_df['Store'] == store]\n",
    "    \n",
    "    regressor = ExtraTreesRegressor(n_estimators=50, n_jobs=-1)\n",
    "    regressor.fit(store_train_df[features], store_train_df['Sales'])\n",
    "    regressors[store] = regressor\n"
   ]
  },
  {
   "cell_type": "code",
   "execution_count": 11,
   "metadata": {
    "collapsed": false
   },
   "outputs": [],
   "source": [
    "store_predictions = {}\n",
    "for store in test_df['Store'].unique():\n",
    "    \n",
    "    features = [col for col in test_df.columns if col != 'Sales' and col != 'Customers']\n",
    "    store_test_df = test_df[test_df['Store'] == store]\n",
    "    store_predictions[store] = DataFrame.from_dict({\"Predicted\": regressors[store].predict(store_test_df[features]), \"Actual\": store_test_df['Sales']})"
   ]
  },
  {
   "cell_type": "code",
   "execution_count": 12,
   "metadata": {
    "collapsed": false
   },
   "outputs": [],
   "source": [
    "results = pandas.concat(store_predictions.values())"
   ]
  },
  {
   "cell_type": "code",
   "execution_count": 13,
   "metadata": {
    "collapsed": false
   },
   "outputs": [
    {
     "data": {
      "text/plain": [
       "0.14669575041920244"
      ]
     },
     "execution_count": 13,
     "metadata": {},
     "output_type": "execute_result"
    }
   ],
   "source": [
    "score(predicted=results.Predicted, actual=results.Actual)"
   ]
  },
  {
   "cell_type": "markdown",
   "metadata": {},
   "source": [
    "# Means"
   ]
  },
  {
   "cell_type": "code",
   "execution_count": 14,
   "metadata": {
    "collapsed": false
   },
   "outputs": [],
   "source": [
    "def calculate_means(df):\n",
    "    means = df.groupby([ 'Store', 'DayOfWeek', 'Promo' ])['Sales'].mean()\n",
    "    means = means.reset_index()\n",
    "    return means\n",
    "\n",
    "\n",
    "train_df = pandas.merge(train_df, calculate_means(train_df), on = ['Store','DayOfWeek','Promo'], how='left')\n",
    "\n",
    "train_df['Predict-mean'] = train_df['Sales_y']\n",
    "del train_df['Sales_y']\n",
    "train_df['Sales'] = train_df['Sales_x']\n",
    "del train_df['Sales_x']\n",
    "\n",
    "train_df.fillna(train_df['Predict-mean'].mean(), inplace=True)\n",
    "\n"
   ]
  },
  {
   "cell_type": "code",
   "execution_count": null,
   "metadata": {
    "collapsed": true
   },
   "outputs": [],
   "source": []
  },
  {
   "cell_type": "code",
   "execution_count": null,
   "metadata": {
    "collapsed": true
   },
   "outputs": [],
   "source": []
  },
  {
   "cell_type": "code",
   "execution_count": null,
   "metadata": {
    "collapsed": true
   },
   "outputs": [],
   "source": []
  },
  {
   "cell_type": "code",
   "execution_count": 15,
   "metadata": {
    "collapsed": false
   },
   "outputs": [
    {
     "data": {
      "text/html": [
       "<div>\n",
       "<table border=\"1\" class=\"dataframe\">\n",
       "  <thead>\n",
       "    <tr style=\"text-align: right;\">\n",
       "      <th></th>\n",
       "      <th>Store</th>\n",
       "      <th>DayOfWeek</th>\n",
       "      <th>Customers</th>\n",
       "      <th>Open</th>\n",
       "      <th>Promo</th>\n",
       "      <th>StateHoliday</th>\n",
       "      <th>SchoolHoliday</th>\n",
       "      <th>cal:dayOfMonth</th>\n",
       "      <th>cal:dayOfWeek</th>\n",
       "      <th>cal:dayofyear</th>\n",
       "      <th>cal:month</th>\n",
       "      <th>cal:quarter</th>\n",
       "      <th>cal:weekofyear</th>\n",
       "      <th>cal:year</th>\n",
       "      <th>Predict-mean</th>\n",
       "      <th>Sales</th>\n",
       "    </tr>\n",
       "  </thead>\n",
       "  <tbody>\n",
       "    <tr>\n",
       "      <th>0</th>\n",
       "      <td>233</td>\n",
       "      <td>2</td>\n",
       "      <td>1348</td>\n",
       "      <td>1</td>\n",
       "      <td>1</td>\n",
       "      <td>0</td>\n",
       "      <td>0</td>\n",
       "      <td>17</td>\n",
       "      <td>1</td>\n",
       "      <td>351</td>\n",
       "      <td>12</td>\n",
       "      <td>4</td>\n",
       "      <td>51</td>\n",
       "      <td>2013</td>\n",
       "      <td>11262.875000</td>\n",
       "      <td>14887</td>\n",
       "    </tr>\n",
       "    <tr>\n",
       "      <th>1</th>\n",
       "      <td>314</td>\n",
       "      <td>7</td>\n",
       "      <td>0</td>\n",
       "      <td>0</td>\n",
       "      <td>0</td>\n",
       "      <td>0</td>\n",
       "      <td>0</td>\n",
       "      <td>29</td>\n",
       "      <td>6</td>\n",
       "      <td>88</td>\n",
       "      <td>3</td>\n",
       "      <td>1</td>\n",
       "      <td>13</td>\n",
       "      <td>2015</td>\n",
       "      <td>0.000000</td>\n",
       "      <td>0</td>\n",
       "    </tr>\n",
       "    <tr>\n",
       "      <th>2</th>\n",
       "      <td>524</td>\n",
       "      <td>7</td>\n",
       "      <td>201</td>\n",
       "      <td>1</td>\n",
       "      <td>0</td>\n",
       "      <td>0</td>\n",
       "      <td>0</td>\n",
       "      <td>12</td>\n",
       "      <td>6</td>\n",
       "      <td>285</td>\n",
       "      <td>10</td>\n",
       "      <td>4</td>\n",
       "      <td>41</td>\n",
       "      <td>2014</td>\n",
       "      <td>1324.032787</td>\n",
       "      <td>1791</td>\n",
       "    </tr>\n",
       "    <tr>\n",
       "      <th>3</th>\n",
       "      <td>978</td>\n",
       "      <td>1</td>\n",
       "      <td>1013</td>\n",
       "      <td>1</td>\n",
       "      <td>1</td>\n",
       "      <td>0</td>\n",
       "      <td>0</td>\n",
       "      <td>3</td>\n",
       "      <td>0</td>\n",
       "      <td>154</td>\n",
       "      <td>6</td>\n",
       "      <td>2</td>\n",
       "      <td>23</td>\n",
       "      <td>2013</td>\n",
       "      <td>10660.714286</td>\n",
       "      <td>7287</td>\n",
       "    </tr>\n",
       "    <tr>\n",
       "      <th>4</th>\n",
       "      <td>60</td>\n",
       "      <td>2</td>\n",
       "      <td>684</td>\n",
       "      <td>1</td>\n",
       "      <td>0</td>\n",
       "      <td>0</td>\n",
       "      <td>0</td>\n",
       "      <td>12</td>\n",
       "      <td>1</td>\n",
       "      <td>316</td>\n",
       "      <td>11</td>\n",
       "      <td>4</td>\n",
       "      <td>46</td>\n",
       "      <td>2013</td>\n",
       "      <td>6689.783333</td>\n",
       "      <td>6904</td>\n",
       "    </tr>\n",
       "  </tbody>\n",
       "</table>\n",
       "</div>"
      ],
      "text/plain": [
       "   Store  DayOfWeek  Customers  Open  Promo StateHoliday  SchoolHoliday  \\\n",
       "0    233          2       1348     1      1            0              0   \n",
       "1    314          7          0     0      0            0              0   \n",
       "2    524          7        201     1      0            0              0   \n",
       "3    978          1       1013     1      1            0              0   \n",
       "4     60          2        684     1      0            0              0   \n",
       "\n",
       "   cal:dayOfMonth  cal:dayOfWeek  cal:dayofyear  cal:month  cal:quarter  \\\n",
       "0              17              1            351         12            4   \n",
       "1              29              6             88          3            1   \n",
       "2              12              6            285         10            4   \n",
       "3               3              0            154          6            2   \n",
       "4              12              1            316         11            4   \n",
       "\n",
       "   cal:weekofyear  cal:year  Predict-mean  Sales  \n",
       "0              51      2013  11262.875000  14887  \n",
       "1              13      2015      0.000000      0  \n",
       "2              41      2014   1324.032787   1791  \n",
       "3              23      2013  10660.714286   7287  \n",
       "4              46      2013   6689.783333   6904  "
      ]
     },
     "execution_count": 15,
     "metadata": {},
     "output_type": "execute_result"
    }
   ],
   "source": [
    "train_df.head()"
   ]
  },
  {
   "cell_type": "code",
   "execution_count": null,
   "metadata": {
    "collapsed": true
   },
   "outputs": [],
   "source": []
  },
  {
   "cell_type": "code",
   "execution_count": 1,
   "metadata": {
    "collapsed": false
   },
   "outputs": [
    {
     "ename": "SyntaxError",
     "evalue": "invalid syntax (<ipython-input-1-a975497927ee>, line 1)",
     "output_type": "error",
     "traceback": [
      "\u001b[1;36m  File \u001b[1;32m\"<ipython-input-1-a975497927ee>\"\u001b[1;36m, line \u001b[1;32m1\u001b[0m\n\u001b[1;33m    ^^^^ STOP: inspect train_df, make sure all three sales predictions are in place.\u001b[0m\n\u001b[1;37m    ^\u001b[0m\n\u001b[1;31mSyntaxError\u001b[0m\u001b[1;31m:\u001b[0m invalid syntax\n"
     ]
    }
   ],
   "source": [
    "^^^^ STOP: inspect train_df, make sure all three sales predictions are in place.\n",
    "    NEXT: continue on with ensemble and test\n",
    "    NEXT: add in customer predictions"
   ]
  },
  {
   "cell_type": "markdown",
   "metadata": {},
   "source": [
    "# Ensemble\n",
    "\n"
   ]
  },
  {
   "cell_type": "code",
   "execution_count": 2,
   "metadata": {
    "collapsed": false
   },
   "outputs": [
    {
     "ename": "NameError",
     "evalue": "name 'train_ensemble_df' is not defined",
     "output_type": "error",
     "traceback": [
      "\u001b[1;31m---------------------------------------------------------------------------\u001b[0m",
      "\u001b[1;31mNameError\u001b[0m                                 Traceback (most recent call last)",
      "\u001b[1;32m<ipython-input-2-7f5ebc0cde40>\u001b[0m in \u001b[0;36m<module>\u001b[1;34m()\u001b[0m\n\u001b[1;32m----> 1\u001b[1;33m \u001b[0mtrain_ensemble_df_bk\u001b[0m \u001b[1;33m=\u001b[0m \u001b[0mtrain_ensemble_df\u001b[0m\u001b[1;33m.\u001b[0m\u001b[0mcopy\u001b[0m\u001b[1;33m(\u001b[0m\u001b[1;33m)\u001b[0m\u001b[1;33m\u001b[0m\u001b[0m\n\u001b[0m",
      "\u001b[1;31mNameError\u001b[0m: name 'train_ensemble_df' is not defined"
     ]
    }
   ],
   "source": [
    "train_ensemble_df_bk = train_ensemble_df.copy()"
   ]
  },
  {
   "cell_type": "code",
   "execution_count": null,
   "metadata": {
    "collapsed": false
   },
   "outputs": [],
   "source": [
    "# Create ensemble training set\n",
    "partials = []\n",
    "\n",
    "features = [col for col in train_ensemble_df.columns if col != 'Sales' and col != 'Customers']\n",
    "for store in train_ensemble_df['Store'].unique():\n",
    "\n",
    "    if (i % 100 == 0):\n",
    "        print (i)\n",
    "    i = i + 1\n",
    "    \n",
    "    store_train_df = train_individual_df[train_individual_df['Store'] == store]\n",
    "    store_train_df['Predict-all_in_one'] = regressor_big.predict(store_train_df[features])\n",
    "    store_train_df['Predict-by_store'] = regressors[store].predict(store_train_df[features])\n",
    "    \n",
    "    partials.append(store_train_df)\n",
    "    "
   ]
  },
  {
   "cell_type": "code",
   "execution_count": null,
   "metadata": {
    "collapsed": true
   },
   "outputs": [],
   "source": [
    "ensemble_df = pandas.concat(partials)"
   ]
  },
  {
   "cell_type": "code",
   "execution_count": null,
   "metadata": {
    "collapsed": false
   },
   "outputs": [],
   "source": [
    "def calculate_means(df):\n",
    "    means = df.groupby([ 'Store', 'DayOfWeek', 'Promo' ])['Sales'].mean()\n",
    "    means = means.reset_index()\n",
    "    return means\n",
    "\n",
    "\n",
    "ensemble_df = pandas.merge(ensemble_df, calculate_means(ensemble_df), on = ['Store','DayOfWeek','Promo'], how='left')\n",
    "\n",
    "ensemble_df['Predict-mean'] = ensemble_df['Sales_y']\n",
    "del ensemble_df['Sales_y']\n",
    "ensemble_df['Sales'] = ensemble_df['Sales_x']\n",
    "del ensemble_df['Sales_x']\n",
    "\n",
    "ensemble_df.fillna(ensemble_df['Predict-mean'].mean(), inplace=True)\n"
   ]
  },
  {
   "cell_type": "code",
   "execution_count": null,
   "metadata": {
    "collapsed": false
   },
   "outputs": [],
   "source": [
    "partials = []\n",
    "\n",
    "features = [col for col in test_df.columns if col != 'Sales' and col != 'Customers']\n",
    "for store in test_df['Store'].unique():\n",
    "\n",
    "    if (i % 100 == 0):\n",
    "        print (i)\n",
    "    i = i + 1\n",
    "    \n",
    "    store_test_df = test_df[test_df['Store'] == store]\n",
    "    store_test_df['Predict-all_in_one'] = regressor_big.predict(store_test_df[features])\n",
    "    store_test_df['Predict-by_store'] = regressors[store].predict(store_test_df[features])\n",
    "    \n",
    "    partials.append(store_test_df)\n",
    "test_ensemble_df = pandas.concat(partials)"
   ]
  },
  {
   "cell_type": "code",
   "execution_count": null,
   "metadata": {
    "collapsed": false
   },
   "outputs": [],
   "source": [
    "features = [col for col in ensemble_df.columns if col != 'Sales' and col != 'Customers']\n",
    "regressor_ensemble = LinearRegression(normalize=\"L1\")\n",
    "regressor_ensemble.fit(ensemble_df[features], ensemble_df['Sales'])"
   ]
  },
  {
   "cell_type": "code",
   "execution_count": null,
   "metadata": {
    "collapsed": true
   },
   "outputs": [],
   "source": [
    "def calculate_means(df):\n",
    "    means = df.groupby([ 'Store', 'DayOfWeek', 'Promo' ])['Sales'].mean()\n",
    "    means = means.reset_index()\n",
    "    return means\n",
    "\n",
    "\n",
    "test_ensemble_df = pandas.merge(test_ensemble_df, calculate_means(ensemble_df), on = ['Store','DayOfWeek','Promo'], how='left')\n",
    "\n",
    "test_ensemble_df['Predict-mean'] = test_ensemble_df['Sales_y']\n",
    "del test_ensemble_df['Sales_y']\n",
    "test_ensemble_df['Sales'] = test_ensemble_df['Sales_x']\n",
    "del test_ensemble_df['Sales_x']\n",
    "\n",
    "test_ensemble_df.fillna(test_ensemble_df['Predict-mean'].mean(), inplace=True)\n"
   ]
  },
  {
   "cell_type": "code",
   "execution_count": null,
   "metadata": {
    "collapsed": true
   },
   "outputs": [],
   "source": [
    "# Fix order\n",
    "test_ensemble_df = test_ensemble_df[ensemble_df.columns]"
   ]
  },
  {
   "cell_type": "code",
   "execution_count": null,
   "metadata": {
    "collapsed": false
   },
   "outputs": [],
   "source": [
    "features = [col for col in test_ensemble_df.columns if col != 'Sales' and col != 'Customers']\n",
    "score(predicted=regressor_ensemble.predict(test_ensemble_df[features]), actual=test_ensemble_df['Sales'])"
   ]
  },
  {
   "cell_type": "markdown",
   "metadata": {},
   "source": [
    "# Submit"
   ]
  },
  {
   "cell_type": "code",
   "execution_count": null,
   "metadata": {
    "collapsed": true
   },
   "outputs": [],
   "source": [
    "eval_df = DataFrame.from_csv(\"test.csv\", parse_dates=['Date'])"
   ]
  },
  {
   "cell_type": "code",
   "execution_count": null,
   "metadata": {
    "collapsed": false
   },
   "outputs": [],
   "source": [
    "eval_df.reset_index(inplace=True)\n",
    "eval_df.head()"
   ]
  },
  {
   "cell_type": "code",
   "execution_count": 3,
   "metadata": {
    "collapsed": false
   },
   "outputs": [
    {
     "ename": "NameError",
     "evalue": "name 'featurize' is not defined",
     "output_type": "error",
     "traceback": [
      "\u001b[1;31m---------------------------------------------------------------------------\u001b[0m",
      "\u001b[1;31mNameError\u001b[0m                                 Traceback (most recent call last)",
      "\u001b[1;32m<ipython-input-3-4c26b857e1ae>\u001b[0m in \u001b[0;36m<module>\u001b[1;34m()\u001b[0m\n\u001b[1;32m----> 1\u001b[1;33m \u001b[0meval_df\u001b[0m \u001b[1;33m=\u001b[0m \u001b[0mfeaturize\u001b[0m\u001b[1;33m(\u001b[0m\u001b[0meval_df\u001b[0m\u001b[1;33m)\u001b[0m\u001b[1;33m\u001b[0m\u001b[0m\n\u001b[0m",
      "\u001b[1;31mNameError\u001b[0m: name 'featurize' is not defined"
     ]
    }
   ],
   "source": [
    "eval_df = featurize(eval_df)\n"
   ]
  },
  {
   "cell_type": "code",
   "execution_count": null,
   "metadata": {
    "collapsed": false
   },
   "outputs": [],
   "source": [
    "eval_df.columns"
   ]
  },
  {
   "cell_type": "code",
   "execution_count": null,
   "metadata": {
    "collapsed": false
   },
   "outputs": [],
   "source": [
    "eval_df.fillna(0, inplace=True)"
   ]
  },
  {
   "cell_type": "code",
   "execution_count": null,
   "metadata": {
    "collapsed": false
   },
   "outputs": [],
   "source": [
    "partials = []\n",
    "\n",
    "features = [col for col in eval_df.columns if col != 'Sales' and col != 'Customers' and col != \"Id\"]\n",
    "for store in eval_df['Store'].unique():\n",
    "\n",
    "    if (i % 100 == 0):\n",
    "        print (i)\n",
    "    i = i + 1\n",
    "    \n",
    "    store_test_df = eval_df[eval_df['Store'] == store]\n",
    "    store_test_df['Predict-all_in_one'] = regressor_big.predict(store_test_df[features])\n",
    "    store_test_df['Predict-by_store'] = regressors[store].predict(store_test_df[features])\n",
    "    \n",
    "    partials.append(store_test_df)\n",
    "eval_df = pandas.concat(partials)"
   ]
  },
  {
   "cell_type": "code",
   "execution_count": null,
   "metadata": {
    "collapsed": false
   },
   "outputs": [],
   "source": [
    "del eval_df['Sales_x']\n",
    "del eval_df['Sales_y']"
   ]
  },
  {
   "cell_type": "code",
   "execution_count": null,
   "metadata": {
    "collapsed": false
   },
   "outputs": [],
   "source": [
    "def calculate_means(df):\n",
    "    means = df.groupby([ 'Store', 'DayOfWeek', 'Promo' ])['Sales'].mean()\n",
    "    means = means.reset_index()\n",
    "    return means\n",
    "\n",
    "\n",
    "eval_df = pandas.merge(eval_df, calculate_means(train_all_df), on = ['Store','DayOfWeek','Promo'], how='left')\n",
    "\n",
    "eval_df['Predict-mean'] = eval_df['Sales']\n",
    "del eval_df['Sales']\n",
    "\n",
    "eval_df.fillna(eval_df['Predict-mean'].mean(), inplace=True)\n"
   ]
  },
  {
   "cell_type": "code",
   "execution_count": null,
   "metadata": {
    "collapsed": true
   },
   "outputs": [],
   "source": [
    "features = [col for col in test_ensemble_df.columns if col != 'Sales' and col != 'Customers']\n",
    "predictions = regressor_ensemble.predict(eval_df[features])"
   ]
  },
  {
   "cell_type": "code",
   "execution_count": null,
   "metadata": {
    "collapsed": true
   },
   "outputs": [],
   "source": []
  },
  {
   "cell_type": "code",
   "execution_count": null,
   "metadata": {
    "collapsed": false
   },
   "outputs": [],
   "source": [
    "eval_df['Predictions'] = predictions"
   ]
  },
  {
   "cell_type": "code",
   "execution_count": null,
   "metadata": {
    "collapsed": true
   },
   "outputs": [],
   "source": [
    "ensemble_results = eval_df[['Id', 'Predictions']]\n",
    "ensemble_results.columns=['Id', 'Sales']\n",
    "ensemble_results.to_csv( \"results-ensemble.csv\", index = False )"
   ]
  },
  {
   "cell_type": "code",
   "execution_count": null,
   "metadata": {
    "collapsed": true
   },
   "outputs": [],
   "source": []
  }
 ],
 "metadata": {
  "kernelspec": {
   "display_name": "Python 3",
   "language": "python",
   "name": "python3"
  },
  "language_info": {
   "codemirror_mode": {
    "name": "ipython",
    "version": 3
   },
   "file_extension": ".py",
   "mimetype": "text/x-python",
   "name": "python",
   "nbconvert_exporter": "python",
   "pygments_lexer": "ipython3",
   "version": "3.4.3"
  }
 },
 "nbformat": 4,
 "nbformat_minor": 0
}
