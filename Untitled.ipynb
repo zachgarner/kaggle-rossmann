{
 "cells": [
  {
   "cell_type": "code",
   "execution_count": 4,
   "metadata": {
    "collapsed": false
   },
   "outputs": [
    {
     "name": "stdout",
     "output_type": "stream",
     "text": [
      "PyBrain2           - PyBrain2 is the modestly improved PyBrain, the Swiss army\r\n",
      "                     knife for neural networking.\r\n",
      "pybraincompare     - image-based meta analysis and comparison for neuroimaging\r\n",
      "                     in python\r\n",
      "PyBrain            - PyBrain is the Swiss army knife for neural networking.\r\n"
     ]
    }
   ],
   "source": [
    "!pip search pybrain\n",
    "\n"
   ]
  },
  {
   "cell_type": "code",
   "execution_count": null,
   "metadata": {
    "collapsed": true
   },
   "outputs": [],
   "source": []
  }
 ],
 "metadata": {
  "kernelspec": {
   "display_name": "Python 3",
   "language": "python",
   "name": "python3"
  },
  "language_info": {
   "codemirror_mode": {
    "name": "ipython",
    "version": 3
   },
   "file_extension": ".py",
   "mimetype": "text/x-python",
   "name": "python",
   "nbconvert_exporter": "python",
   "pygments_lexer": "ipython3",
   "version": "3.4.3"
  }
 },
 "nbformat": 4,
 "nbformat_minor": 0
}
