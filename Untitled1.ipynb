{
 "cells": [
  {
   "cell_type": "code",
   "execution_count": null,
   "metadata": {
    "collapsed": true
   },
   "outputs": [],
   "source": [
    "# 1. Featurize all basic columns.\n",
    "# 2. Create model to predict Customers.\n",
    "# 3. Create model to predict Sales.\n",
    "# 4.  a. Group by core features (basic columns) and take mean\n",
    "# 5.  b. Create single model for all features\n",
    "# 6.  c. Create individual model per store.\n",
    "# 7.  d. Create ensemble model."
   ]
  }
 ],
 "metadata": {
  "kernelspec": {
   "display_name": "Python 3",
   "language": "python",
   "name": "python3"
  },
  "language_info": {
   "codemirror_mode": {
    "name": "ipython",
    "version": 3
   },
   "file_extension": ".py",
   "mimetype": "text/x-python",
   "name": "python",
   "nbconvert_exporter": "python",
   "pygments_lexer": "ipython3",
   "version": "3.4.3"
  }
 },
 "nbformat": 4,
 "nbformat_minor": 0
}
