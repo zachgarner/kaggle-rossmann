{
 "cells": [
  {
   "cell_type": "code",
   "execution_count": 18,
   "metadata": {
    "collapsed": true
   },
   "outputs": [],
   "source": [
    "import pandas\n",
    "from pandas import DataFrame\n",
    "%matplotlib inline\n",
    "import seaborn\n",
    "from sklearn.ensemble import RandomForestRegressor\n",
    "\n",
    "from sklearn.ensemble import ExtraTreesRegressor\n",
    "from sklearn import cross_validation\n",
    "\n",
    "import numpy\n",
    "import math"
   ]
  },
  {
   "cell_type": "code",
   "execution_count": null,
   "metadata": {
    "collapsed": true
   },
   "outputs": [],
   "source": []
  },
  {
   "cell_type": "code",
   "execution_count": 2,
   "metadata": {
    "collapsed": false
   },
   "outputs": [
    {
     "name": "stderr",
     "output_type": "stream",
     "text": [
      "/opt/conda/lib/python3.4/site-packages/pandas/io/parsers.py:1170: DtypeWarning: Columns (7) have mixed types. Specify dtype option on import or set low_memory=False.\n",
      "  data = self._reader.read(nrows)\n"
     ]
    }
   ],
   "source": [
    "\n",
    "\"Predict sales as a historical mean for a given store, day of week and promo\"\n",
    "\n",
    "import pandas as pd\n",
    "\n",
    "output_file = 'predictions.csv'\n",
    "\n",
    "train = DataFrame.from_csv(\"train.csv\", parse_dates=['Date'])\n",
    "train = train.reset_index()\n",
    "\n",
    "# remove rows with 0 sales from train\n",
    "train = train.loc[train.Sales > 0]\n",
    "\n",
    "# remove NaNs from Open\n",
    "train.loc[ train.Open.isnull(), 'Open' ] = 1\n"
   ]
  },
  {
   "cell_type": "code",
   "execution_count": 3,
   "metadata": {
    "collapsed": false
   },
   "outputs": [
    {
     "name": "stdout",
     "output_type": "stream",
     "text": [
      "merge with test dataframe to get sales predictions\n"
     ]
    }
   ],
   "source": [
    "def calculate_means(df):\n",
    "    means = df.groupby([ 'Store', 'DayOfWeek', 'Promo' ])['Sales'].mean()\n",
    "    means = means.reset_index()\n",
    "    return means\n",
    "\n",
    "\n",
    "print(\"merge with test dataframe to get sales predictions\")\n",
    "trained = pd.merge(train, calculate_means(train), on = ['Store','DayOfWeek','Promo'], how='left')\n",
    "trained.fillna(train.Sales.mean(), inplace=True)\n"
   ]
  },
  {
   "cell_type": "code",
   "execution_count": null,
   "metadata": {
    "collapsed": false
   },
   "outputs": [],
   "source": []
  },
  {
   "cell_type": "code",
   "execution_count": 4,
   "metadata": {
    "collapsed": false
   },
   "outputs": [
    {
     "data": {
      "text/html": [
       "<div>\n",
       "<table border=\"1\" class=\"dataframe\">\n",
       "  <thead>\n",
       "    <tr style=\"text-align: right;\">\n",
       "      <th></th>\n",
       "      <th>Store</th>\n",
       "      <th>DayOfWeek</th>\n",
       "      <th>Date</th>\n",
       "      <th>Customers</th>\n",
       "      <th>Open</th>\n",
       "      <th>Promo</th>\n",
       "      <th>StateHoliday</th>\n",
       "      <th>SchoolHoliday</th>\n",
       "      <th>Sales-prediction_mean</th>\n",
       "      <th>Sales-actual</th>\n",
       "    </tr>\n",
       "  </thead>\n",
       "  <tbody>\n",
       "    <tr>\n",
       "      <th>0</th>\n",
       "      <td>1</td>\n",
       "      <td>5</td>\n",
       "      <td>2015-07-31</td>\n",
       "      <td>555</td>\n",
       "      <td>1</td>\n",
       "      <td>1</td>\n",
       "      <td>0</td>\n",
       "      <td>1</td>\n",
       "      <td>5145.283582</td>\n",
       "      <td>5263</td>\n",
       "    </tr>\n",
       "    <tr>\n",
       "      <th>1</th>\n",
       "      <td>2</td>\n",
       "      <td>5</td>\n",
       "      <td>2015-07-31</td>\n",
       "      <td>625</td>\n",
       "      <td>1</td>\n",
       "      <td>1</td>\n",
       "      <td>0</td>\n",
       "      <td>1</td>\n",
       "      <td>5115.882353</td>\n",
       "      <td>6064</td>\n",
       "    </tr>\n",
       "    <tr>\n",
       "      <th>2</th>\n",
       "      <td>3</td>\n",
       "      <td>5</td>\n",
       "      <td>2015-07-31</td>\n",
       "      <td>821</td>\n",
       "      <td>1</td>\n",
       "      <td>1</td>\n",
       "      <td>0</td>\n",
       "      <td>1</td>\n",
       "      <td>8138.089552</td>\n",
       "      <td>8314</td>\n",
       "    </tr>\n",
       "    <tr>\n",
       "      <th>3</th>\n",
       "      <td>4</td>\n",
       "      <td>5</td>\n",
       "      <td>2015-07-31</td>\n",
       "      <td>1498</td>\n",
       "      <td>1</td>\n",
       "      <td>1</td>\n",
       "      <td>0</td>\n",
       "      <td>1</td>\n",
       "      <td>10275.776119</td>\n",
       "      <td>13995</td>\n",
       "    </tr>\n",
       "    <tr>\n",
       "      <th>4</th>\n",
       "      <td>5</td>\n",
       "      <td>5</td>\n",
       "      <td>2015-07-31</td>\n",
       "      <td>559</td>\n",
       "      <td>1</td>\n",
       "      <td>1</td>\n",
       "      <td>0</td>\n",
       "      <td>1</td>\n",
       "      <td>5308.835821</td>\n",
       "      <td>4822</td>\n",
       "    </tr>\n",
       "  </tbody>\n",
       "</table>\n",
       "</div>"
      ],
      "text/plain": [
       "   Store  DayOfWeek       Date  Customers  Open  Promo StateHoliday  \\\n",
       "0      1          5 2015-07-31        555     1      1            0   \n",
       "1      2          5 2015-07-31        625     1      1            0   \n",
       "2      3          5 2015-07-31        821     1      1            0   \n",
       "3      4          5 2015-07-31       1498     1      1            0   \n",
       "4      5          5 2015-07-31        559     1      1            0   \n",
       "\n",
       "   SchoolHoliday  Sales-prediction_mean  Sales-actual  \n",
       "0              1            5145.283582          5263  \n",
       "1              1            5115.882353          6064  \n",
       "2              1            8138.089552          8314  \n",
       "3              1           10275.776119         13995  \n",
       "4              1            5308.835821          4822  "
      ]
     },
     "execution_count": 4,
     "metadata": {},
     "output_type": "execute_result"
    }
   ],
   "source": [
    "trained['Sales-prediction_mean'] = trained['Sales_y']\n",
    "del trained['Sales_y']\n",
    "trained['Sales-actual'] = trained['Sales_x']\n",
    "del trained['Sales_x']\n",
    "\n",
    "trained.head()\n"
   ]
  },
  {
   "cell_type": "code",
   "execution_count": 5,
   "metadata": {
    "collapsed": false
   },
   "outputs": [
    {
     "data": {
      "text/plain": [
       "0.22978844842293555"
      ]
     },
     "execution_count": 5,
     "metadata": {},
     "output_type": "execute_result"
    }
   ],
   "source": [
    "score_df = trained[['Sales-actual', 'Sales-prediction_mean']].copy()\n",
    "score_df = score_df[score_df['Sales-actual'] != 0]\n",
    "score_df['PercentError'] =  (score_df['Sales-actual'] - score_df['Sales-prediction_mean']) / score_df['Sales-actual']\n",
    "score_df['PercentErrorSquared'] = score_df['PercentError'] * score_df['PercentError']\n",
    "math.sqrt(score_df['PercentErrorSquared'].mean())"
   ]
  },
  {
   "cell_type": "code",
   "execution_count": null,
   "metadata": {
    "collapsed": true
   },
   "outputs": [],
   "source": []
  },
  {
   "cell_type": "code",
   "execution_count": 6,
   "metadata": {
    "collapsed": true
   },
   "outputs": [],
   "source": [
    "# TRain Model with mean model\n"
   ]
  },
  {
   "cell_type": "code",
   "execution_count": 7,
   "metadata": {
    "collapsed": true
   },
   "outputs": [],
   "source": [
    "train_df = trained\n",
    "del trained"
   ]
  },
  {
   "cell_type": "code",
   "execution_count": 8,
   "metadata": {
    "collapsed": false
   },
   "outputs": [],
   "source": [
    "# Featurize v2\n",
    "#train_df.reset_index(inplace=True)\n",
    "def numericStateHoliday(x):\n",
    "    if x == 'a':\n",
    "        return 1\n",
    "    elif x == 'b':\n",
    "        return 2\n",
    "    elif x == 'c':\n",
    "        return 3\n",
    "    else:\n",
    "        return x\n",
    "train_df['StateHoliday'] = train_df['StateHoliday'].map(lambda x: numericStateHoliday(x))"
   ]
  },
  {
   "cell_type": "code",
   "execution_count": 9,
   "metadata": {
    "collapsed": false
   },
   "outputs": [],
   "source": [
    "\n",
    "def featurizeDate(ts): \n",
    "    features = {}\n",
    "    features['cal:dayOfMonth'] = ts.day\n",
    "    features['cal:dayOfWeek'] = ts.dayofweek\n",
    "    features['cal:dayofyear'] = ts.dayofyear\n",
    "    features['cal:month'] = ts.month\n",
    "    features['cal:year'] = ts.year\n",
    "    features['cal:weekofyear'] =  ts.weekofyear\n",
    "    features['cal:quarter'] = ts.quarter\n",
    "\n",
    "    return features\n",
    "\n",
    "\n",
    "\n",
    "date_features_series = train_df['Date'].map(lambda x: featurizeDate(x))\n",
    "date_features = DataFrame.from_records(date_features_series.tolist(), index=train_df['Date'])\n"
   ]
  },
  {
   "cell_type": "code",
   "execution_count": 10,
   "metadata": {
    "collapsed": true
   },
   "outputs": [],
   "source": [
    "def train_and_score(training_df, features):\n",
    "\n",
    "    # regressor = RandomForestRegressor(n_estimators=25, n_jobs=-1)\n",
    "    regressor = ExtraTreesRegressor(n_estimators=100, n_jobs=-1)\n",
    "    predict = cross_validation.cross_val_predict(regressor, training_df[features], training_df['Sales-actual'], n_jobs=-1)\n",
    "    \n",
    "    score_df = training_df[['Sales-actual']].copy()\n",
    "    score_df['Sales-prediction_mean'] = predict\n",
    "    score_df = score_df[score_df['Sales-actual'] != 0]\n",
    "    score_df['PercentError'] =  (score_df['Sales-actual'] - score_df['Sales-prediction_mean']) / score_df['Sales-actual']\n",
    "    score_df['PercentErrorSquared'] = score_df['PercentError'] * score_df['PercentError']\n",
    "    \n",
    "    return math.sqrt(score_df['PercentErrorSquared'].mean())"
   ]
  },
  {
   "cell_type": "code",
   "execution_count": 11,
   "metadata": {
    "collapsed": true
   },
   "outputs": [],
   "source": [
    "train_df = pandas.concat([train_df, date_features.reset_index()], axis=1)\n"
   ]
  },
  {
   "cell_type": "code",
   "execution_count": 12,
   "metadata": {
    "collapsed": false
   },
   "outputs": [
    {
     "data": {
      "text/html": [
       "<div>\n",
       "<table border=\"1\" class=\"dataframe\">\n",
       "  <thead>\n",
       "    <tr style=\"text-align: right;\">\n",
       "      <th></th>\n",
       "      <th>Store</th>\n",
       "      <th>DayOfWeek</th>\n",
       "      <th>Date</th>\n",
       "      <th>Customers</th>\n",
       "      <th>Open</th>\n",
       "      <th>Promo</th>\n",
       "      <th>StateHoliday</th>\n",
       "      <th>SchoolHoliday</th>\n",
       "      <th>Sales-prediction_mean</th>\n",
       "      <th>Sales-actual</th>\n",
       "      <th>Date</th>\n",
       "      <th>cal:dayOfMonth</th>\n",
       "      <th>cal:dayOfWeek</th>\n",
       "      <th>cal:dayofyear</th>\n",
       "      <th>cal:month</th>\n",
       "      <th>cal:quarter</th>\n",
       "      <th>cal:weekofyear</th>\n",
       "      <th>cal:year</th>\n",
       "    </tr>\n",
       "  </thead>\n",
       "  <tbody>\n",
       "    <tr>\n",
       "      <th>0</th>\n",
       "      <td>1</td>\n",
       "      <td>5</td>\n",
       "      <td>2015-07-31</td>\n",
       "      <td>555</td>\n",
       "      <td>1</td>\n",
       "      <td>1</td>\n",
       "      <td>0</td>\n",
       "      <td>1</td>\n",
       "      <td>5145.283582</td>\n",
       "      <td>5263</td>\n",
       "      <td>2015-07-31</td>\n",
       "      <td>31</td>\n",
       "      <td>4</td>\n",
       "      <td>212</td>\n",
       "      <td>7</td>\n",
       "      <td>3</td>\n",
       "      <td>31</td>\n",
       "      <td>2015</td>\n",
       "    </tr>\n",
       "    <tr>\n",
       "      <th>1</th>\n",
       "      <td>2</td>\n",
       "      <td>5</td>\n",
       "      <td>2015-07-31</td>\n",
       "      <td>625</td>\n",
       "      <td>1</td>\n",
       "      <td>1</td>\n",
       "      <td>0</td>\n",
       "      <td>1</td>\n",
       "      <td>5115.882353</td>\n",
       "      <td>6064</td>\n",
       "      <td>2015-07-31</td>\n",
       "      <td>31</td>\n",
       "      <td>4</td>\n",
       "      <td>212</td>\n",
       "      <td>7</td>\n",
       "      <td>3</td>\n",
       "      <td>31</td>\n",
       "      <td>2015</td>\n",
       "    </tr>\n",
       "    <tr>\n",
       "      <th>2</th>\n",
       "      <td>3</td>\n",
       "      <td>5</td>\n",
       "      <td>2015-07-31</td>\n",
       "      <td>821</td>\n",
       "      <td>1</td>\n",
       "      <td>1</td>\n",
       "      <td>0</td>\n",
       "      <td>1</td>\n",
       "      <td>8138.089552</td>\n",
       "      <td>8314</td>\n",
       "      <td>2015-07-31</td>\n",
       "      <td>31</td>\n",
       "      <td>4</td>\n",
       "      <td>212</td>\n",
       "      <td>7</td>\n",
       "      <td>3</td>\n",
       "      <td>31</td>\n",
       "      <td>2015</td>\n",
       "    </tr>\n",
       "    <tr>\n",
       "      <th>3</th>\n",
       "      <td>4</td>\n",
       "      <td>5</td>\n",
       "      <td>2015-07-31</td>\n",
       "      <td>1498</td>\n",
       "      <td>1</td>\n",
       "      <td>1</td>\n",
       "      <td>0</td>\n",
       "      <td>1</td>\n",
       "      <td>10275.776119</td>\n",
       "      <td>13995</td>\n",
       "      <td>2015-07-31</td>\n",
       "      <td>31</td>\n",
       "      <td>4</td>\n",
       "      <td>212</td>\n",
       "      <td>7</td>\n",
       "      <td>3</td>\n",
       "      <td>31</td>\n",
       "      <td>2015</td>\n",
       "    </tr>\n",
       "    <tr>\n",
       "      <th>4</th>\n",
       "      <td>5</td>\n",
       "      <td>5</td>\n",
       "      <td>2015-07-31</td>\n",
       "      <td>559</td>\n",
       "      <td>1</td>\n",
       "      <td>1</td>\n",
       "      <td>0</td>\n",
       "      <td>1</td>\n",
       "      <td>5308.835821</td>\n",
       "      <td>4822</td>\n",
       "      <td>2015-07-31</td>\n",
       "      <td>31</td>\n",
       "      <td>4</td>\n",
       "      <td>212</td>\n",
       "      <td>7</td>\n",
       "      <td>3</td>\n",
       "      <td>31</td>\n",
       "      <td>2015</td>\n",
       "    </tr>\n",
       "  </tbody>\n",
       "</table>\n",
       "</div>"
      ],
      "text/plain": [
       "   Store  DayOfWeek       Date  Customers  Open  Promo StateHoliday  \\\n",
       "0      1          5 2015-07-31        555     1      1            0   \n",
       "1      2          5 2015-07-31        625     1      1            0   \n",
       "2      3          5 2015-07-31        821     1      1            0   \n",
       "3      4          5 2015-07-31       1498     1      1            0   \n",
       "4      5          5 2015-07-31        559     1      1            0   \n",
       "\n",
       "   SchoolHoliday  Sales-prediction_mean  Sales-actual       Date  \\\n",
       "0              1            5145.283582          5263 2015-07-31   \n",
       "1              1            5115.882353          6064 2015-07-31   \n",
       "2              1            8138.089552          8314 2015-07-31   \n",
       "3              1           10275.776119         13995 2015-07-31   \n",
       "4              1            5308.835821          4822 2015-07-31   \n",
       "\n",
       "   cal:dayOfMonth  cal:dayOfWeek  cal:dayofyear  cal:month  cal:quarter  \\\n",
       "0              31              4            212          7            3   \n",
       "1              31              4            212          7            3   \n",
       "2              31              4            212          7            3   \n",
       "3              31              4            212          7            3   \n",
       "4              31              4            212          7            3   \n",
       "\n",
       "   cal:weekofyear  cal:year  \n",
       "0              31      2015  \n",
       "1              31      2015  \n",
       "2              31      2015  \n",
       "3              31      2015  \n",
       "4              31      2015  "
      ]
     },
     "execution_count": 12,
     "metadata": {},
     "output_type": "execute_result"
    }
   ],
   "source": [
    "train_df.head() "
   ]
  },
  {
   "cell_type": "code",
   "execution_count": null,
   "metadata": {
    "collapsed": false
   },
   "outputs": [],
   "source": [
    "del train_df['level_0']\n",
    "del train_df['Date']"
   ]
  },
  {
   "cell_type": "code",
   "execution_count": null,
   "metadata": {
    "collapsed": false
   },
   "outputs": [],
   "source": [
    "%%time\n",
    "\n",
    "features = [col for col in train_df.columns if col != 'Sales-actual' and col != 'Customers']\n",
    "print(\"Score: {}\".format(train_and_score(train_df, features)))"
   ]
  },
  {
   "cell_type": "code",
   "execution_count": null,
   "metadata": {
    "collapsed": true
   },
   "outputs": [],
   "source": []
  },
  {
   "cell_type": "code",
   "execution_count": null,
   "metadata": {
    "collapsed": true
   },
   "outputs": [],
   "source": []
  },
  {
   "cell_type": "code",
   "execution_count": null,
   "metadata": {
    "collapsed": true
   },
   "outputs": [],
   "source": [
    "def train_and_score(training_df, features):\n",
    "\n",
    "    regressor = RandomForestRegressor(n_estimators=25, n_jobs=-1)\n",
    "    predict = cross_validation.cross_val_predict(regressor, training_df[features], training_df['Sales-actual'], n_jobs=-1)\n",
    "    \n",
    "    score_df = training_df[['Sales-actual']].copy()\n",
    "    score_df['Sales-prediction_mean'] = predict\n",
    "    score_df = score_df[score_df['Sales-actual'] != 0]\n",
    "    score_df['PercentError'] =  (score_df['Sales-actual'] - score_df['Sales-prediction_mean']) / score_df['Sales-actual']\n",
    "    score_df['PercentErrorSquared'] = score_df['PercentError'] * score_df['PercentError']\n",
    "    \n",
    "    return math.sqrt(score_df['PercentErrorSquared'].mean())"
   ]
  },
  {
   "cell_type": "code",
   "execution_count": null,
   "metadata": {
    "collapsed": true
   },
   "outputs": [],
   "source": [
    "import sciki"
   ]
  },
  {
   "cell_type": "code",
   "execution_count": null,
   "metadata": {
    "collapsed": true
   },
   "outputs": [],
   "source": [
    "#regressor = RandomForestRegressor(n_estimators=50, n_jobs=-1)\n",
    "\n",
    "\n",
    "from sklearn.ensemble import ExtraTreesRegressor\n",
    "regressor = ExtraTreesRegressor(n_estimators=100, n_jobs=-1)"
   ]
  },
  {
   "cell_type": "code",
   "execution_count": null,
   "metadata": {
    "collapsed": false
   },
   "outputs": [],
   "source": [
    "regressor.fit(train_df[features], train_df['Sales-actual'])"
   ]
  },
  {
   "cell_type": "code",
   "execution_count": null,
   "metadata": {
    "collapsed": false
   },
   "outputs": [],
   "source": [
    "train_df.head()"
   ]
  },
  {
   "cell_type": "code",
   "execution_count": null,
   "metadata": {
    "collapsed": true
   },
   "outputs": [],
   "source": [
    "test_df = DataFrame.from_csv(\"test.csv\", parse_dates=['Date'])"
   ]
  },
  {
   "cell_type": "code",
   "execution_count": null,
   "metadata": {
    "collapsed": false
   },
   "outputs": [],
   "source": [
    "test_df.reset_index(inplace=True)\n",
    "test_df.head()"
   ]
  },
  {
   "cell_type": "code",
   "execution_count": null,
   "metadata": {
    "collapsed": true
   },
   "outputs": [],
   "source": []
  },
  {
   "cell_type": "code",
   "execution_count": null,
   "metadata": {
    "collapsed": false
   },
   "outputs": [],
   "source": [
    "def calculate_means(df):\n",
    "    means = df.groupby([ 'Store', 'DayOfWeek', 'Promo' ])['Sales'].mean()\n",
    "    means = means.reset_index()\n",
    "    return means\n",
    "\n",
    "# means = calculate_means(train_df)\n",
    "print(\"merge with test dataframe to get sales predictions\")\n",
    "test_df = pd.merge(test_df, means, on = ['Store','DayOfWeek','Promo'], how='left')\n"
   ]
  },
  {
   "cell_type": "code",
   "execution_count": null,
   "metadata": {
    "collapsed": true
   },
   "outputs": [],
   "source": [
    "\n",
    "test_df.fillna(test_df.Sales.mean(), inplace=True)"
   ]
  },
  {
   "cell_type": "code",
   "execution_count": null,
   "metadata": {
    "collapsed": false
   },
   "outputs": [],
   "source": [
    "test_df['Sales-prediction_mean'] = test_df['Sales']\n",
    "del test_df['Sales']"
   ]
  },
  {
   "cell_type": "code",
   "execution_count": null,
   "metadata": {
    "collapsed": true
   },
   "outputs": [],
   "source": [
    "  \n",
    "test_df['StateHoliday'] = test_df['StateHoliday'].map(lambda x: numericStateHoliday(x))"
   ]
  },
  {
   "cell_type": "code",
   "execution_count": null,
   "metadata": {
    "collapsed": true
   },
   "outputs": [],
   "source": [
    "\n",
    "date_features_series = test_df['Date'].map(lambda x: featurizeDate(x))\n",
    "date_features = DataFrame.from_records(date_features_series.tolist(), index=test_df['Date'])"
   ]
  },
  {
   "cell_type": "code",
   "execution_count": null,
   "metadata": {
    "collapsed": true
   },
   "outputs": [],
   "source": [
    "test_df = pandas.concat([test_df, date_features.reset_index()], axis=1)\n"
   ]
  },
  {
   "cell_type": "code",
   "execution_count": null,
   "metadata": {
    "collapsed": false
   },
   "outputs": [],
   "source": [
    "\n",
    "features = [col for col in test_df.columns if col != 'Sales-actual' and col != 'Date' and col != \"Id\" and col != \"Predictions\"]\n",
    "predictions = regressor.predict(test_df[features])"
   ]
  },
  {
   "cell_type": "code",
   "execution_count": null,
   "metadata": {
    "collapsed": false
   },
   "outputs": [],
   "source": [
    "test_df['Predictions'] = predictions"
   ]
  },
  {
   "cell_type": "code",
   "execution_count": null,
   "metadata": {
    "collapsed": true
   },
   "outputs": [],
   "source": []
  },
  {
   "cell_type": "code",
   "execution_count": null,
   "metadata": {
    "collapsed": false
   },
   "outputs": [],
   "source": [
    "reproduce_method_results = test_df[['Id', 'Sales-prediction_mean']]"
   ]
  },
  {
   "cell_type": "code",
   "execution_count": null,
   "metadata": {
    "collapsed": true
   },
   "outputs": [],
   "source": [
    "reproduce_method_results.columns=['Id', 'Sales']"
   ]
  },
  {
   "cell_type": "code",
   "execution_count": null,
   "metadata": {
    "collapsed": false
   },
   "outputs": [],
   "source": [
    "reproduce_method_results.to_csv( \"results-reproduce.csv\", index = False )"
   ]
  },
  {
   "cell_type": "code",
   "execution_count": null,
   "metadata": {
    "collapsed": false
   },
   "outputs": [],
   "source": [
    "ml_on_top = test_df[['Id', 'Predictions']]"
   ]
  },
  {
   "cell_type": "code",
   "execution_count": null,
   "metadata": {
    "collapsed": true
   },
   "outputs": [],
   "source": [
    "ml_on_top.columns=['Id', 'Sales']\n",
    "ml_on_top.to_csv( \"results-mlontop.csv\", index = False )"
   ]
  },
  {
   "cell_type": "code",
   "execution_count": null,
   "metadata": {
    "collapsed": false
   },
   "outputs": [],
   "source": [
    "!ls\n"
   ]
  },
  {
   "cell_type": "code",
   "execution_count": null,
   "metadata": {
    "collapsed": false
   },
   "outputs": [],
   "source": [
    "regressor.feature_importances_\n"
   ]
  },
  {
   "cell_type": "code",
   "execution_count": null,
   "metadata": {
    "collapsed": true
   },
   "outputs": [],
   "source": []
  },
  {
   "cell_type": "code",
   "execution_count": null,
   "metadata": {
    "collapsed": true
   },
   "outputs": [],
   "source": []
  }
 ],
 "metadata": {
  "kernelspec": {
   "display_name": "Python 3",
   "language": "python",
   "name": "python3"
  },
  "language_info": {
   "codemirror_mode": {
    "name": "ipython",
    "version": 3
   },
   "file_extension": ".py",
   "mimetype": "text/x-python",
   "name": "python",
   "nbconvert_exporter": "python",
   "pygments_lexer": "ipython3",
   "version": "3.4.3"
  }
 },
 "nbformat": 4,
 "nbformat_minor": 0
}
