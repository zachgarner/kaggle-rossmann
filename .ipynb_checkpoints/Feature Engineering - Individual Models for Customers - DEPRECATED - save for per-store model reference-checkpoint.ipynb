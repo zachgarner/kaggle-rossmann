{
 "cells": [
  {
   "cell_type": "code",
   "execution_count": 1,
   "metadata": {
    "collapsed": true
   },
   "outputs": [],
   "source": [
    "import pandas\n",
    "from pandas import DataFrame\n",
    "%matplotlib inline\n",
    "import seaborn\n",
    "from sklearn.ensemble import ExtraTreesRegressor\n",
    "from sklearn.linear_model import LinearRegression\n",
    "from sklearn.linear_model import Ridge\n",
    "from sklearn import cross_validation\n",
    "\n",
    "import numpy\n",
    "import math"
   ]
  },
  {
   "cell_type": "code",
   "execution_count": 2,
   "metadata": {
    "collapsed": false
   },
   "outputs": [
    {
     "name": "stderr",
     "output_type": "stream",
     "text": [
      "/opt/conda/lib/python3.4/site-packages/pandas/io/parsers.py:1170: DtypeWarning: Columns (7) have mixed types. Specify dtype option on import or set low_memory=False.\n",
      "  data = self._reader.read(nrows)\n"
     ]
    },
    {
     "data": {
      "text/html": [
       "<div>\n",
       "<table border=\"1\" class=\"dataframe\">\n",
       "  <thead>\n",
       "    <tr style=\"text-align: right;\">\n",
       "      <th></th>\n",
       "      <th>Store</th>\n",
       "      <th>Date</th>\n",
       "      <th>Customers</th>\n",
       "      <th>DayOfWeek</th>\n",
       "      <th>Open</th>\n",
       "      <th>Promo</th>\n",
       "      <th>StateHoliday</th>\n",
       "      <th>SchoolHoliday</th>\n",
       "      <th>cal:dayOfMonth</th>\n",
       "      <th>cal:dayOfWeek</th>\n",
       "      <th>cal:dayofyear</th>\n",
       "      <th>cal:month</th>\n",
       "      <th>cal:quarter</th>\n",
       "      <th>cal:weekofyear</th>\n",
       "      <th>cal:year</th>\n",
       "    </tr>\n",
       "  </thead>\n",
       "  <tbody>\n",
       "    <tr>\n",
       "      <th>0</th>\n",
       "      <td>1</td>\n",
       "      <td>2015-07-31</td>\n",
       "      <td>555</td>\n",
       "      <td>5</td>\n",
       "      <td>1</td>\n",
       "      <td>1</td>\n",
       "      <td>0</td>\n",
       "      <td>1</td>\n",
       "      <td>31</td>\n",
       "      <td>4</td>\n",
       "      <td>212</td>\n",
       "      <td>7</td>\n",
       "      <td>3</td>\n",
       "      <td>31</td>\n",
       "      <td>2015</td>\n",
       "    </tr>\n",
       "    <tr>\n",
       "      <th>1</th>\n",
       "      <td>2</td>\n",
       "      <td>2015-07-31</td>\n",
       "      <td>625</td>\n",
       "      <td>5</td>\n",
       "      <td>1</td>\n",
       "      <td>1</td>\n",
       "      <td>0</td>\n",
       "      <td>1</td>\n",
       "      <td>31</td>\n",
       "      <td>4</td>\n",
       "      <td>212</td>\n",
       "      <td>7</td>\n",
       "      <td>3</td>\n",
       "      <td>31</td>\n",
       "      <td>2015</td>\n",
       "    </tr>\n",
       "    <tr>\n",
       "      <th>2</th>\n",
       "      <td>3</td>\n",
       "      <td>2015-07-31</td>\n",
       "      <td>821</td>\n",
       "      <td>5</td>\n",
       "      <td>1</td>\n",
       "      <td>1</td>\n",
       "      <td>0</td>\n",
       "      <td>1</td>\n",
       "      <td>31</td>\n",
       "      <td>4</td>\n",
       "      <td>212</td>\n",
       "      <td>7</td>\n",
       "      <td>3</td>\n",
       "      <td>31</td>\n",
       "      <td>2015</td>\n",
       "    </tr>\n",
       "    <tr>\n",
       "      <th>3</th>\n",
       "      <td>4</td>\n",
       "      <td>2015-07-31</td>\n",
       "      <td>1498</td>\n",
       "      <td>5</td>\n",
       "      <td>1</td>\n",
       "      <td>1</td>\n",
       "      <td>0</td>\n",
       "      <td>1</td>\n",
       "      <td>31</td>\n",
       "      <td>4</td>\n",
       "      <td>212</td>\n",
       "      <td>7</td>\n",
       "      <td>3</td>\n",
       "      <td>31</td>\n",
       "      <td>2015</td>\n",
       "    </tr>\n",
       "    <tr>\n",
       "      <th>4</th>\n",
       "      <td>5</td>\n",
       "      <td>2015-07-31</td>\n",
       "      <td>559</td>\n",
       "      <td>5</td>\n",
       "      <td>1</td>\n",
       "      <td>1</td>\n",
       "      <td>0</td>\n",
       "      <td>1</td>\n",
       "      <td>31</td>\n",
       "      <td>4</td>\n",
       "      <td>212</td>\n",
       "      <td>7</td>\n",
       "      <td>3</td>\n",
       "      <td>31</td>\n",
       "      <td>2015</td>\n",
       "    </tr>\n",
       "  </tbody>\n",
       "</table>\n",
       "</div>"
      ],
      "text/plain": [
       "   Store       Date  Customers  DayOfWeek  Open  Promo  StateHoliday  \\\n",
       "0      1 2015-07-31        555          5     1      1             0   \n",
       "1      2 2015-07-31        625          5     1      1             0   \n",
       "2      3 2015-07-31        821          5     1      1             0   \n",
       "3      4 2015-07-31       1498          5     1      1             0   \n",
       "4      5 2015-07-31        559          5     1      1             0   \n",
       "\n",
       "   SchoolHoliday  cal:dayOfMonth  cal:dayOfWeek  cal:dayofyear  cal:month  \\\n",
       "0              1              31              4            212          7   \n",
       "1              1              31              4            212          7   \n",
       "2              1              31              4            212          7   \n",
       "3              1              31              4            212          7   \n",
       "4              1              31              4            212          7   \n",
       "\n",
       "   cal:quarter  cal:weekofyear  cal:year  \n",
       "0            3              31      2015  \n",
       "1            3              31      2015  \n",
       "2            3              31      2015  \n",
       "3            3              31      2015  \n",
       "4            3              31      2015  "
      ]
     },
     "execution_count": 2,
     "metadata": {},
     "output_type": "execute_result"
    }
   ],
   "source": [
    "train_df = DataFrame.from_csv(\"train.csv\", index_col=['Store', 'Date'], parse_dates=['Date'])[['Customers']]\n",
    "df_basic = DataFrame.from_csv(\"train_features_basic.csv\", index_col=['Store', 'Date'])\n",
    "train_df = train_df.join(df_basic, how='left')\n",
    "train_df.reset_index(inplace=True)\n",
    "train_df.head()"
   ]
  },
  {
   "cell_type": "code",
   "execution_count": 4,
   "metadata": {
    "collapsed": true
   },
   "outputs": [],
   "source": [
    "del train_df['Date']"
   ]
  },
  {
   "cell_type": "markdown",
   "metadata": {
    "collapsed": true
   },
   "source": [
    "# Big Model"
   ]
  },
  {
   "cell_type": "code",
   "execution_count": 6,
   "metadata": {
    "collapsed": false
   },
   "outputs": [],
   "source": [
    "regressor_big = ExtraTreesRegressor(n_estimators=50, n_jobs=-1)\n",
    "features = [col for col in train_df.columns if col != 'Sales' and col != 'Customers']\n",
    "predictions = cross_validation.cross_val_predict(regressor_big, train_df[features], train_df['Customers'])\n",
    "                                   "
   ]
  },
  {
   "cell_type": "code",
   "execution_count": 7,
   "metadata": {
    "collapsed": true
   },
   "outputs": [],
   "source": [
    "def score(predicted, actual): # RootMeanSquaredPercentError RMSPE\n",
    "    score_df = DataFrame.from_dict({\"Predicted\": predicted, \"Actual\": actual})\n",
    "    score_df = score_df[score_df['Actual'] != 0]\n",
    "    score_df['PercentError'] =  (score_df['Actual'] - score_df['Predicted']) / score_df['Actual']\n",
    "    score_df['PercentErrorSquared'] = score_df['PercentError'] * score_df['PercentError']\n",
    "    \n",
    "    return math.sqrt(score_df['PercentErrorSquared'].mean())"
   ]
  },
  {
   "cell_type": "code",
   "execution_count": 8,
   "metadata": {
    "collapsed": false
   },
   "outputs": [
    {
     "data": {
      "text/plain": [
       "0.5761407329039374"
      ]
     },
     "execution_count": 8,
     "metadata": {},
     "output_type": "execute_result"
    }
   ],
   "source": [
    "score(predicted=predictions, actual=train_df['Customers'])"
   ]
  },
  {
   "cell_type": "code",
   "execution_count": 9,
   "metadata": {
    "collapsed": true
   },
   "outputs": [],
   "source": [
    "train_df['Predictions-big_model'] = predictions"
   ]
  },
  {
   "cell_type": "markdown",
   "metadata": {},
   "source": [
    "# MultiModel"
   ]
  },
  {
   "cell_type": "code",
   "execution_count": 25,
   "metadata": {
    "collapsed": false
   },
   "outputs": [
    {
     "name": "stdout",
     "output_type": "stream",
     "text": [
      "0\n",
      "100\n",
      "200\n",
      "300\n",
      "400\n",
      "500\n",
      "600\n",
      "700\n",
      "800\n",
      "900\n",
      "1000\n",
      "1100\n"
     ]
    }
   ],
   "source": [
    "predictions_dfs = {}\n",
    "\n",
    "i = 0\n",
    "features = [col for col in train_df.columns if col != 'Sales' and col != 'Customers']\n",
    "for store in train_df['Store'].unique().tolist():\n",
    "    if (i % 100 == 0):\n",
    "        print (i)\n",
    "    i = i + 1\n",
    "    store_df = train_df[train_df['Store'] == store].copy()\n",
    "    \n",
    "    regressor = ExtraTreesRegressor(n_estimators=50, n_jobs=-1)\n",
    "    predictions = cross_validation.cross_val_predict(regressor, store_df[features], store_df['Customers'])\n",
    "    store_df['Prediction-mini_model'] = predictions\n",
    "    predictions_dfs[store] = store_df\n"
   ]
  },
  {
   "cell_type": "code",
   "execution_count": 26,
   "metadata": {
    "collapsed": false
   },
   "outputs": [],
   "source": [
    "predictions_df = pandas.concat(predictions_dfs.values())"
   ]
  },
  {
   "cell_type": "code",
   "execution_count": 27,
   "metadata": {
    "collapsed": false
   },
   "outputs": [
    {
     "data": {
      "text/plain": [
       "0.5428566910914857"
      ]
     },
     "execution_count": 27,
     "metadata": {},
     "output_type": "execute_result"
    }
   ],
   "source": [
    "score(predicted=predictions_df['Prediction-mini_model'], actual=predictions_df['Customers'])"
   ]
  },
  {
   "cell_type": "code",
   "execution_count": null,
   "metadata": {
    "collapsed": true
   },
   "outputs": [],
   "source": []
  }
 ],
 "metadata": {
  "kernelspec": {
   "display_name": "Python 3",
   "language": "python",
   "name": "python3"
  },
  "language_info": {
   "codemirror_mode": {
    "name": "ipython",
    "version": 3
   },
   "file_extension": ".py",
   "mimetype": "text/x-python",
   "name": "python",
   "nbconvert_exporter": "python",
   "pygments_lexer": "ipython3",
   "version": "3.4.3"
  }
 },
 "nbformat": 4,
 "nbformat_minor": 0
}
