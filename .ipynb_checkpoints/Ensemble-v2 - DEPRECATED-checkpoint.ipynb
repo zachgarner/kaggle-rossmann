{
 "cells": [
  {
   "cell_type": "code",
   "execution_count": 1,
   "metadata": {
    "collapsed": true
   },
   "outputs": [],
   "source": [
    "import pandas\n",
    "from pandas import DataFrame\n",
    "%matplotlib inline\n",
    "import seaborn\n",
    "from sklearn.ensemble import ExtraTreesRegressor\n",
    "from sklearn.linear_model import LinearRegression\n",
    "from sklearn.linear_model import Ridge\n",
    "from sklearn import cross_validation\n",
    "\n",
    "import numpy\n",
    "import math"
   ]
  },
  {
   "cell_type": "code",
   "execution_count": 2,
   "metadata": {
    "collapsed": false
   },
   "outputs": [
    {
     "name": "stderr",
     "output_type": "stream",
     "text": [
      "/opt/conda/lib/python3.4/site-packages/pandas/io/parsers.py:1170: DtypeWarning: Columns (7) have mixed types. Specify dtype option on import or set low_memory=False.\n",
      "  data = self._reader.read(nrows)\n"
     ]
    },
    {
     "data": {
      "text/html": [
       "<div>\n",
       "<table border=\"1\" class=\"dataframe\">\n",
       "  <thead>\n",
       "    <tr style=\"text-align: right;\">\n",
       "      <th></th>\n",
       "      <th>Store</th>\n",
       "      <th>Date</th>\n",
       "      <th>DayOfWeek</th>\n",
       "      <th>Sales</th>\n",
       "      <th>Customers</th>\n",
       "      <th>Open</th>\n",
       "      <th>Promo</th>\n",
       "      <th>StateHoliday</th>\n",
       "      <th>SchoolHoliday</th>\n",
       "    </tr>\n",
       "  </thead>\n",
       "  <tbody>\n",
       "    <tr>\n",
       "      <th>0</th>\n",
       "      <td>1</td>\n",
       "      <td>2015-07-31</td>\n",
       "      <td>5</td>\n",
       "      <td>5263</td>\n",
       "      <td>555</td>\n",
       "      <td>1</td>\n",
       "      <td>1</td>\n",
       "      <td>0</td>\n",
       "      <td>1</td>\n",
       "    </tr>\n",
       "    <tr>\n",
       "      <th>1</th>\n",
       "      <td>2</td>\n",
       "      <td>2015-07-31</td>\n",
       "      <td>5</td>\n",
       "      <td>6064</td>\n",
       "      <td>625</td>\n",
       "      <td>1</td>\n",
       "      <td>1</td>\n",
       "      <td>0</td>\n",
       "      <td>1</td>\n",
       "    </tr>\n",
       "    <tr>\n",
       "      <th>2</th>\n",
       "      <td>3</td>\n",
       "      <td>2015-07-31</td>\n",
       "      <td>5</td>\n",
       "      <td>8314</td>\n",
       "      <td>821</td>\n",
       "      <td>1</td>\n",
       "      <td>1</td>\n",
       "      <td>0</td>\n",
       "      <td>1</td>\n",
       "    </tr>\n",
       "    <tr>\n",
       "      <th>3</th>\n",
       "      <td>4</td>\n",
       "      <td>2015-07-31</td>\n",
       "      <td>5</td>\n",
       "      <td>13995</td>\n",
       "      <td>1498</td>\n",
       "      <td>1</td>\n",
       "      <td>1</td>\n",
       "      <td>0</td>\n",
       "      <td>1</td>\n",
       "    </tr>\n",
       "    <tr>\n",
       "      <th>4</th>\n",
       "      <td>5</td>\n",
       "      <td>2015-07-31</td>\n",
       "      <td>5</td>\n",
       "      <td>4822</td>\n",
       "      <td>559</td>\n",
       "      <td>1</td>\n",
       "      <td>1</td>\n",
       "      <td>0</td>\n",
       "      <td>1</td>\n",
       "    </tr>\n",
       "  </tbody>\n",
       "</table>\n",
       "</div>"
      ],
      "text/plain": [
       "   Store       Date  DayOfWeek  Sales  Customers  Open  Promo StateHoliday  \\\n",
       "0      1 2015-07-31          5   5263        555     1      1            0   \n",
       "1      2 2015-07-31          5   6064        625     1      1            0   \n",
       "2      3 2015-07-31          5   8314        821     1      1            0   \n",
       "3      4 2015-07-31          5  13995       1498     1      1            0   \n",
       "4      5 2015-07-31          5   4822        559     1      1            0   \n",
       "\n",
       "   SchoolHoliday  \n",
       "0              1  \n",
       "1              1  \n",
       "2              1  \n",
       "3              1  \n",
       "4              1  "
      ]
     },
     "execution_count": 2,
     "metadata": {},
     "output_type": "execute_result"
    }
   ],
   "source": [
    "train_all_df = DataFrame.from_csv(\"train.csv\", index_col=['Store', 'Date'], parse_dates=['Date'])\n",
    "train_all_df.reset_index(inplace=True)\n",
    "train_all_df.head()"
   ]
  },
  {
   "cell_type": "code",
   "execution_count": null,
   "metadata": {
    "collapsed": true
   },
   "outputs": [],
   "source": []
  },
  {
   "cell_type": "code",
   "execution_count": 3,
   "metadata": {
    "collapsed": true
   },
   "outputs": [],
   "source": [
    "def featurize(df):\n",
    "    df = df.copy()\n",
    "    def featurizeStateHoliday(x):\n",
    "        if x == 'a':\n",
    "            return 1\n",
    "        elif x == 'b':\n",
    "            return 2\n",
    "        elif x == 'c':\n",
    "            return 3\n",
    "        else:\n",
    "            return x\n",
    "    df['StateHoliday'] = df['StateHoliday'].map(lambda x: featurizeStateHoliday(x))\n",
    "    \n",
    "\n",
    "    def featurizeDate(ts): \n",
    "        features = {}\n",
    "        features['cal:dayOfMonth'] = ts.day\n",
    "        features['cal:dayOfWeek'] = ts.dayofweek\n",
    "        features['cal:dayofyear'] = ts.dayofyear\n",
    "        features['cal:month'] = ts.month\n",
    "        features['cal:year'] = ts.year\n",
    "        features['cal:weekofyear'] =  ts.weekofyear\n",
    "        features['cal:quarter'] = ts.quarter\n",
    "\n",
    "        return features\n",
    "\n",
    "    date_features_series = df['Date'].map(lambda x: featurizeDate(x))\n",
    "    date_features = DataFrame.from_records(date_features_series.tolist(), index=df['Date'])\n",
    "\n",
    "    df = pandas.concat([df, date_features.reset_index()], axis=1)\n",
    "\n",
    "    del df['Date']\n",
    "    \n",
    "    return df"
   ]
  },
  {
   "cell_type": "code",
   "execution_count": null,
   "metadata": {
    "collapsed": false
   },
   "outputs": [],
   "source": [
    "train_all_df = featurize(train_all_df)\n",
    "\n",
    "train_df, test_df = cross_validation.train_test_split(train_all_df, train_size=.9)\n",
    "\n",
    "# train_individual_df, train_ensemble_df = cross_validation.train_test_split(train_df, train_size=.5)\n",
    "\n",
    "train_all_df.head()"
   ]
  },
  {
   "cell_type": "code",
   "execution_count": 5,
   "metadata": {
    "collapsed": true
   },
   "outputs": [],
   "source": [
    "def score(predicted, actual): # RootMeanSquaredPercentError RMSPE\n",
    "    score_df = DataFrame.from_dict({\"Predicted\": predicted, \"Actual\": actual})\n",
    "    score_df = score_df[score_df['Actual'] != 0]\n",
    "    score_df['PercentError'] =  (score_df['Actual'] - score_df['Predicted']) / score_df['Actual']\n",
    "    score_df['PercentErrorSquared'] = score_df['PercentError'] * score_df['PercentError']\n",
    "    \n",
    "    return math.sqrt(score_df['PercentErrorSquared'].mean())"
   ]
  },
  {
   "cell_type": "markdown",
   "metadata": {},
   "source": [
    "# One Big Model"
   ]
  },
  {
   "cell_type": "code",
   "execution_count": 6,
   "metadata": {
    "collapsed": false
   },
   "outputs": [
    {
     "data": {
      "text/plain": [
       "0.6005433877145714"
      ]
     },
     "execution_count": 6,
     "metadata": {},
     "output_type": "execute_result"
    },
    {
     "data": {
      "text/plain": [
       "0.6005433877145714"
      ]
     },
     "execution_count": 6,
     "metadata": {},
     "output_type": "execute_result"
    }
   ],
   "source": [
    "features = [col for col in train_individual_df.columns if col != 'Sales' and col != 'Customers']\n",
    "regressor_big = ExtraTreesRegressor(n_estimators=100, n_jobs=-1)\n",
    "regressor_big.fit(train_individual_df[features], train_individual_df['Sales'])\n",
    "score(predicted=regressor_big.predict(test_df[features]), actual=test_df['Sales'])"
   ]
  },
  {
   "cell_type": "markdown",
   "metadata": {},
   "source": [
    "# Per store model\n"
   ]
  },
  {
   "cell_type": "code",
   "execution_count": 7,
   "metadata": {
    "collapsed": false
   },
   "outputs": [
    {
     "name": "stdout",
     "output_type": "stream",
     "text": [
      "0\n",
      "1000\n",
      "100\n",
      "200\n",
      "200\n",
      "300\n",
      "300\n",
      "400\n",
      "400\n",
      "500\n",
      "500\n",
      "600\n",
      "600\n",
      "700\n",
      "700\n",
      "800\n",
      "800\n",
      "900\n",
      "900\n",
      "1000\n",
      "1000\n",
      "1100\n",
      "1100\n",
      "\n"
     ]
    }
   ],
   "source": [
    "\n",
    "regressors = {}\n",
    "features = [col for col in train_individual_df.columns if col != 'Sales' and col != 'Customers']\n",
    "i = 0\n",
    "for store in train_individual_df['Store'].unique():\n",
    "\n",
    "    if (i % 100 == 0):\n",
    "        print (i)\n",
    "    i = i + 1\n",
    "    \n",
    "    store_train_df = train_individual_df[train_individual_df['Store'] == store]\n",
    "    \n",
    "    regressor = ExtraTreesRegressor(n_estimators=50, n_jobs=-1)\n",
    "    regressor.fit(store_train_df[features], store_train_df['Sales'])\n",
    "    regressors[store] = regressor\n"
   ]
  },
  {
   "cell_type": "code",
   "execution_count": 8,
   "metadata": {
    "collapsed": false
   },
   "outputs": [],
   "source": [
    "store_predictions = {}\n",
    "for store in test_df['Store'][0:100].unique():\n",
    "    \n",
    "    features = [col for col in test_df.columns if col != 'Sales' and col != 'Customers']\n",
    "    store_test_df = test_df[test_df['Store'] == store]\n",
    "    store_predictions[store] = DataFrame.from_dict({\"Predicted\": regressors[store].predict(store_test_df[features]), \"Actual\": store_test_df['Sales']})"
   ]
  },
  {
   "cell_type": "code",
   "execution_count": 9,
   "metadata": {
    "collapsed": false
   },
   "outputs": [],
   "source": [
    "results = pandas.concat(store_predictions.values())"
   ]
  },
  {
   "cell_type": "code",
   "execution_count": 10,
   "metadata": {
    "collapsed": false
   },
   "outputs": [
    {
     "data": {
      "text/plain": [
       "0.16618446656745742"
      ]
     },
     "execution_count": 10,
     "metadata": {},
     "output_type": "execute_result"
    },
    {
     "data": {
      "text/plain": [
       "0.16618446656745742"
      ]
     },
     "execution_count": 10,
     "metadata": {},
     "output_type": "execute_result"
    }
   ],
   "source": [
    "score(predicted=results.Predicted, actual=results.Actual)"
   ]
  },
  {
   "cell_type": "markdown",
   "metadata": {},
   "source": [
    "# Means"
   ]
  },
  {
   "cell_type": "code",
   "execution_count": 13,
   "metadata": {
    "collapsed": false
   },
   "outputs": [],
   "source": [
    "def calculate_means(df):\n",
    "    means = df.groupby([ 'Store', 'DayOfWeek', 'Promo' ])['Sales'].mean()\n",
    "    means = means.reset_index()\n",
    "    return means\n",
    "\n",
    "\n",
    "train_individual_df = pandas.merge(train_individual_df, calculate_means(train_individual_df), on = ['Store','DayOfWeek','Promo'], how='left')\n",
    "\n",
    "train_individual_df['Predict-mean'] = train_individual_df['Sales_y']\n",
    "del train_individual_df['Sales_y']\n",
    "train_individual_df['Sales'] = train_individual_df['Sales_x']\n",
    "del train_individual_df['Sales_x']\n",
    "\n",
    "train_individual_df.fillna(train_individual_df['Predict-mean'].mean(), inplace=True)\n",
    "\n"
   ]
  },
  {
   "cell_type": "markdown",
   "metadata": {},
   "source": [
    "# Ensemble\n",
    "\n"
   ]
  },
  {
   "cell_type": "code",
   "execution_count": 14,
   "metadata": {
    "collapsed": true
   },
   "outputs": [],
   "source": [
    "train_ensemble_df_bk = train_ensemble_df.copy()"
   ]
  },
  {
   "cell_type": "code",
   "execution_count": 15,
   "metadata": {
    "collapsed": false
   },
   "outputs": [
    {
     "name": "stderr",
     "output_type": "stream",
     "text": [
      "/opt/conda/lib/python3.4/site-packages/ipykernel/__main__.py:12: SettingWithCopyWarning: \n",
      "A value is trying to be set on a copy of a slice from a DataFrame.\n",
      "Try using .loc[row_indexer,col_indexer] = value instead\n",
      "\n",
      "See the the caveats in the documentation: http://pandas.pydata.org/pandas-docs/stable/indexing.html#indexing-view-versus-copy\n",
      "/opt/conda/lib/python3.4/site-packages/ipykernel/__main__.py:13: SettingWithCopyWarning: \n",
      "A value is trying to be set on a copy of a slice from a DataFrame.\n",
      "Try using .loc[row_indexer,col_indexer] = value instead\n",
      "\n",
      "See the the caveats in the documentation: http://pandas.pydata.org/pandas-docs/stable/indexing.html#indexing-view-versus-copy\n",
      "/opt/conda/lib/python3.4/site-packages/ipykernel/__main__.py:12: SettingWithCopyWarning: \n",
      "A value is trying to be set on a copy of a slice from a DataFrame.\n",
      "Try using .loc[row_indexer,col_indexer] = value instead\n",
      "\n",
      "See the the caveats in the documentation: http://pandas.pydata.org/pandas-docs/stable/indexing.html#indexing-view-versus-copy\n",
      "/opt/conda/lib/python3.4/site-packages/ipykernel/__main__.py:13: SettingWithCopyWarning: \n",
      "A value is trying to be set on a copy of a slice from a DataFrame.\n",
      "Try using .loc[row_indexer,col_indexer] = value instead\n",
      "\n",
      "See the the caveats in the documentation: http://pandas.pydata.org/pandas-docs/stable/indexing.html#indexing-view-versus-copy\n"
     ]
    },
    {
     "name": "stdout",
     "output_type": "stream",
     "text": [
      "1200\n",
      "13001200\n",
      "1300\n",
      "1400\n",
      "1400\n",
      "1500\n",
      "1500\n",
      "1600\n",
      "1600\n",
      "1700\n",
      "1700\n",
      "1800\n",
      "1800\n",
      "1900\n",
      "1900\n",
      "2000\n",
      "2000\n",
      "2100\n",
      "2100\n",
      "2200\n",
      "2200\n",
      "\n"
     ]
    }
   ],
   "source": [
    "# Create ensemble training set\n",
    "partials = []\n",
    "\n",
    "features = [col for col in train_ensemble_df.columns if col != 'Sales' and col != 'Customers']\n",
    "for store in train_ensemble_df['Store'].unique():\n",
    "\n",
    "    if (i % 100 == 0):\n",
    "        print (i)\n",
    "    i = i + 1\n",
    "    \n",
    "    store_train_df = train_individual_df[train_individual_df['Store'] == store]\n",
    "    store_train_df['Predict-all_in_one'] = regressor_big.predict(store_train_df[features])\n",
    "    store_train_df['Predict-by_store'] = regressors[store].predict(store_train_df[features])\n",
    "    \n",
    "    partials.append(store_train_df)\n",
    "    "
   ]
  },
  {
   "cell_type": "code",
   "execution_count": 16,
   "metadata": {
    "collapsed": true
   },
   "outputs": [],
   "source": [
    "ensemble_df = pandas.concat(partials)"
   ]
  },
  {
   "cell_type": "code",
   "execution_count": 17,
   "metadata": {
    "collapsed": false
   },
   "outputs": [],
   "source": [
    "def calculate_means(df):\n",
    "    means = df.groupby([ 'Store', 'DayOfWeek', 'Promo' ])['Sales'].mean()\n",
    "    means = means.reset_index()\n",
    "    return means\n",
    "\n",
    "\n",
    "ensemble_df = pandas.merge(ensemble_df, calculate_means(ensemble_df), on = ['Store','DayOfWeek','Promo'], how='left')\n",
    "\n",
    "ensemble_df['Predict-mean'] = ensemble_df['Sales_y']\n",
    "del ensemble_df['Sales_y']\n",
    "ensemble_df['Sales'] = ensemble_df['Sales_x']\n",
    "del ensemble_df['Sales_x']\n",
    "\n",
    "ensemble_df.fillna(ensemble_df['Predict-mean'].mean(), inplace=True)\n"
   ]
  },
  {
   "cell_type": "code",
   "execution_count": 18,
   "metadata": {
    "collapsed": false
   },
   "outputs": [
    {
     "name": "stderr",
     "output_type": "stream",
     "text": [
      "/opt/conda/lib/python3.4/site-packages/ipykernel/__main__.py:11: SettingWithCopyWarning: \n",
      "A value is trying to be set on a copy of a slice from a DataFrame.\n",
      "Try using .loc[row_indexer,col_indexer] = value instead\n",
      "\n",
      "See the the caveats in the documentation: http://pandas.pydata.org/pandas-docs/stable/indexing.html#indexing-view-versus-copy\n",
      "/opt/conda/lib/python3.4/site-packages/ipykernel/__main__.py:12: SettingWithCopyWarning: \n",
      "A value is trying to be set on a copy of a slice from a DataFrame.\n",
      "Try using .loc[row_indexer,col_indexer] = value instead\n",
      "\n",
      "See the the caveats in the documentation: http://pandas.pydata.org/pandas-docs/stable/indexing.html#indexing-view-versus-copy\n",
      "/opt/conda/lib/python3.4/site-packages/ipykernel/__main__.py:11: SettingWithCopyWarning: \n",
      "A value is trying to be set on a copy of a slice from a DataFrame.\n",
      "Try using .loc[row_indexer,col_indexer] = value instead\n",
      "\n",
      "See the the caveats in the documentation: http://pandas.pydata.org/pandas-docs/stable/indexing.html#indexing-view-versus-copy\n",
      "/opt/conda/lib/python3.4/site-packages/ipykernel/__main__.py:12: SettingWithCopyWarning: \n",
      "A value is trying to be set on a copy of a slice from a DataFrame.\n",
      "Try using .loc[row_indexer,col_indexer] = value instead\n",
      "\n",
      "See the the caveats in the documentation: http://pandas.pydata.org/pandas-docs/stable/indexing.html#indexing-view-versus-copy\n"
     ]
    },
    {
     "name": "stdout",
     "output_type": "stream",
     "text": [
      "2300\n",
      "24002300\n",
      "2400\n",
      "2500\n",
      "2500\n",
      "2600\n",
      "2600\n",
      "2700\n",
      "2700\n",
      "2800\n",
      "2800\n",
      "2900\n",
      "2900\n",
      "3000\n",
      "3000\n",
      "3100\n",
      "3100\n",
      "3200\n",
      "3200\n",
      "3300\n",
      "3300\n",
      "\n"
     ]
    }
   ],
   "source": [
    "partials = []\n",
    "\n",
    "features = [col for col in test_df.columns if col != 'Sales' and col != 'Customers']\n",
    "for store in test_df['Store'].unique():\n",
    "\n",
    "    if (i % 100 == 0):\n",
    "        print (i)\n",
    "    i = i + 1\n",
    "    \n",
    "    store_test_df = test_df[test_df['Store'] == store]\n",
    "    store_test_df['Predict-all_in_one'] = regressor_big.predict(store_test_df[features])\n",
    "    store_test_df['Predict-by_store'] = regressors[store].predict(store_test_df[features])\n",
    "    \n",
    "    partials.append(store_test_df)\n",
    "test_ensemble_df = pandas.concat(partials)"
   ]
  },
  {
   "cell_type": "code",
   "execution_count": 30,
   "metadata": {
    "collapsed": false
   },
   "outputs": [
    {
     "data": {
      "text/plain": [
       "LinearRegression(copy_X=True, fit_intercept=True, n_jobs=1, normalize='L1')"
      ]
     },
     "execution_count": 30,
     "metadata": {},
     "output_type": "execute_result"
    },
    {
     "data": {
      "text/plain": [
       "LinearRegression(copy_X=True, fit_intercept=True, n_jobs=1, normalize='L1')"
      ]
     },
     "execution_count": 30,
     "metadata": {},
     "output_type": "execute_result"
    }
   ],
   "source": [
    "features = [col for col in ensemble_df.columns if col != 'Sales' and col != 'Customers']\n",
    "regressor_ensemble = LinearRegression(normalize=\"L1\")\n",
    "regressor_ensemble.fit(ensemble_df[features], ensemble_df['Sales'])"
   ]
  },
  {
   "cell_type": "code",
   "execution_count": 21,
   "metadata": {
    "collapsed": true
   },
   "outputs": [],
   "source": [
    "def calculate_means(df):\n",
    "    means = df.groupby([ 'Store', 'DayOfWeek', 'Promo' ])['Sales'].mean()\n",
    "    means = means.reset_index()\n",
    "    return means\n",
    "\n",
    "\n",
    "test_ensemble_df = pandas.merge(test_ensemble_df, calculate_means(ensemble_df), on = ['Store','DayOfWeek','Promo'], how='left')\n",
    "\n",
    "test_ensemble_df['Predict-mean'] = test_ensemble_df['Sales_y']\n",
    "del test_ensemble_df['Sales_y']\n",
    "test_ensemble_df['Sales'] = test_ensemble_df['Sales_x']\n",
    "del test_ensemble_df['Sales_x']\n",
    "\n",
    "test_ensemble_df.fillna(test_ensemble_df['Predict-mean'].mean(), inplace=True)\n"
   ]
  },
  {
   "cell_type": "code",
   "execution_count": 36,
   "metadata": {
    "collapsed": true
   },
   "outputs": [],
   "source": [
    "# Fix order\n",
    "test_ensemble_df = test_ensemble_df[ensemble_df.columns]"
   ]
  },
  {
   "cell_type": "code",
   "execution_count": 37,
   "metadata": {
    "collapsed": false
   },
   "outputs": [
    {
     "data": {
      "text/plain": [
       "0.16712645972565093"
      ]
     },
     "execution_count": 37,
     "metadata": {},
     "output_type": "execute_result"
    },
    {
     "data": {
      "text/plain": [
       "0.16712645972565093"
      ]
     },
     "execution_count": 37,
     "metadata": {},
     "output_type": "execute_result"
    }
   ],
   "source": [
    "features = [col for col in test_ensemble_df.columns if col != 'Sales' and col != 'Customers']\n",
    "score(predicted=regressor_ensemble.predict(test_ensemble_df[features]), actual=test_ensemble_df['Sales'])"
   ]
  },
  {
   "cell_type": "markdown",
   "metadata": {},
   "source": [
    "# Submit"
   ]
  },
  {
   "cell_type": "code",
   "execution_count": 58,
   "metadata": {
    "collapsed": true
   },
   "outputs": [],
   "source": [
    "eval_df = DataFrame.from_csv(\"test.csv\", parse_dates=['Date'])"
   ]
  },
  {
   "cell_type": "code",
   "execution_count": 59,
   "metadata": {
    "collapsed": false
   },
   "outputs": [
    {
     "data": {
      "text/html": [
       "<div>\n",
       "<table border=\"1\" class=\"dataframe\">\n",
       "  <thead>\n",
       "    <tr style=\"text-align: right;\">\n",
       "      <th></th>\n",
       "      <th>Id</th>\n",
       "      <th>Store</th>\n",
       "      <th>DayOfWeek</th>\n",
       "      <th>Date</th>\n",
       "      <th>Open</th>\n",
       "      <th>Promo</th>\n",
       "      <th>StateHoliday</th>\n",
       "      <th>SchoolHoliday</th>\n",
       "    </tr>\n",
       "  </thead>\n",
       "  <tbody>\n",
       "    <tr>\n",
       "      <th>0</th>\n",
       "      <td>1</td>\n",
       "      <td>1</td>\n",
       "      <td>4</td>\n",
       "      <td>2015-09-17</td>\n",
       "      <td>1</td>\n",
       "      <td>1</td>\n",
       "      <td>0</td>\n",
       "      <td>0</td>\n",
       "    </tr>\n",
       "    <tr>\n",
       "      <th>1</th>\n",
       "      <td>2</td>\n",
       "      <td>3</td>\n",
       "      <td>4</td>\n",
       "      <td>2015-09-17</td>\n",
       "      <td>1</td>\n",
       "      <td>1</td>\n",
       "      <td>0</td>\n",
       "      <td>0</td>\n",
       "    </tr>\n",
       "    <tr>\n",
       "      <th>2</th>\n",
       "      <td>3</td>\n",
       "      <td>7</td>\n",
       "      <td>4</td>\n",
       "      <td>2015-09-17</td>\n",
       "      <td>1</td>\n",
       "      <td>1</td>\n",
       "      <td>0</td>\n",
       "      <td>0</td>\n",
       "    </tr>\n",
       "    <tr>\n",
       "      <th>3</th>\n",
       "      <td>4</td>\n",
       "      <td>8</td>\n",
       "      <td>4</td>\n",
       "      <td>2015-09-17</td>\n",
       "      <td>1</td>\n",
       "      <td>1</td>\n",
       "      <td>0</td>\n",
       "      <td>0</td>\n",
       "    </tr>\n",
       "    <tr>\n",
       "      <th>4</th>\n",
       "      <td>5</td>\n",
       "      <td>9</td>\n",
       "      <td>4</td>\n",
       "      <td>2015-09-17</td>\n",
       "      <td>1</td>\n",
       "      <td>1</td>\n",
       "      <td>0</td>\n",
       "      <td>0</td>\n",
       "    </tr>\n",
       "  </tbody>\n",
       "</table>\n",
       "</div>"
      ],
      "text/plain": [
       "   Id  Store  DayOfWeek       Date  Open  Promo StateHoliday  SchoolHoliday\n",
       "0   1      1          4 2015-09-17     1      1            0              0\n",
       "1   2      3          4 2015-09-17     1      1            0              0\n",
       "2   3      7          4 2015-09-17     1      1            0              0\n",
       "3   4      8          4 2015-09-17     1      1            0              0\n",
       "4   5      9          4 2015-09-17     1      1            0              0"
      ]
     },
     "execution_count": 59,
     "metadata": {},
     "output_type": "execute_result"
    },
    {
     "data": {
      "text/html": [
       "<div>\n",
       "<table border=\"1\" class=\"dataframe\">\n",
       "  <thead>\n",
       "    <tr style=\"text-align: right;\">\n",
       "      <th></th>\n",
       "      <th>Id</th>\n",
       "      <th>Store</th>\n",
       "      <th>DayOfWeek</th>\n",
       "      <th>Date</th>\n",
       "      <th>Open</th>\n",
       "      <th>Promo</th>\n",
       "      <th>StateHoliday</th>\n",
       "      <th>SchoolHoliday</th>\n",
       "    </tr>\n",
       "  </thead>\n",
       "  <tbody>\n",
       "    <tr>\n",
       "      <th>0</th>\n",
       "      <td>1</td>\n",
       "      <td>1</td>\n",
       "      <td>4</td>\n",
       "      <td>2015-09-17</td>\n",
       "      <td>1</td>\n",
       "      <td>1</td>\n",
       "      <td>0</td>\n",
       "      <td>0</td>\n",
       "    </tr>\n",
       "    <tr>\n",
       "      <th>1</th>\n",
       "      <td>2</td>\n",
       "      <td>3</td>\n",
       "      <td>4</td>\n",
       "      <td>2015-09-17</td>\n",
       "      <td>1</td>\n",
       "      <td>1</td>\n",
       "      <td>0</td>\n",
       "      <td>0</td>\n",
       "    </tr>\n",
       "    <tr>\n",
       "      <th>2</th>\n",
       "      <td>3</td>\n",
       "      <td>7</td>\n",
       "      <td>4</td>\n",
       "      <td>2015-09-17</td>\n",
       "      <td>1</td>\n",
       "      <td>1</td>\n",
       "      <td>0</td>\n",
       "      <td>0</td>\n",
       "    </tr>\n",
       "    <tr>\n",
       "      <th>3</th>\n",
       "      <td>4</td>\n",
       "      <td>8</td>\n",
       "      <td>4</td>\n",
       "      <td>2015-09-17</td>\n",
       "      <td>1</td>\n",
       "      <td>1</td>\n",
       "      <td>0</td>\n",
       "      <td>0</td>\n",
       "    </tr>\n",
       "    <tr>\n",
       "      <th>4</th>\n",
       "      <td>5</td>\n",
       "      <td>9</td>\n",
       "      <td>4</td>\n",
       "      <td>2015-09-17</td>\n",
       "      <td>1</td>\n",
       "      <td>1</td>\n",
       "      <td>0</td>\n",
       "      <td>0</td>\n",
       "    </tr>\n",
       "  </tbody>\n",
       "</table>\n",
       "</div>"
      ],
      "text/plain": [
       "   Id  Store  DayOfWeek       Date  Open  Promo StateHoliday  SchoolHoliday\n",
       "0   1      1          4 2015-09-17     1      1            0              0\n",
       "1   2      3          4 2015-09-17     1      1            0              0\n",
       "2   3      7          4 2015-09-17     1      1            0              0\n",
       "3   4      8          4 2015-09-17     1      1            0              0\n",
       "4   5      9          4 2015-09-17     1      1            0              0"
      ]
     },
     "execution_count": 59,
     "metadata": {},
     "output_type": "execute_result"
    }
   ],
   "source": [
    "eval_df.reset_index(inplace=True)\n",
    "eval_df.head()"
   ]
  },
  {
   "cell_type": "code",
   "execution_count": 60,
   "metadata": {
    "collapsed": true
   },
   "outputs": [],
   "source": [
    "eval_df = featurize(eval_df)\n"
   ]
  },
  {
   "cell_type": "code",
   "execution_count": 61,
   "metadata": {
    "collapsed": false
   },
   "outputs": [
    {
     "data": {
      "text/plain": [
       "Index(['Id', 'Store', 'DayOfWeek', 'Open', 'Promo', 'StateHoliday',\n",
       "       'SchoolHoliday', 'cal:dayOfMonth', 'cal:dayOfWeek', 'cal:dayofyear',\n",
       "       'cal:month', 'cal:quarter', 'cal:weekofyear', 'cal:year'],\n",
       "      dtype='object')"
      ]
     },
     "execution_count": 61,
     "metadata": {},
     "output_type": "execute_result"
    },
    {
     "data": {
      "text/plain": [
       "Index(['Id', 'Store', 'DayOfWeek', 'Open', 'Promo', 'StateHoliday',\n",
       "       'SchoolHoliday', 'cal:dayOfMonth', 'cal:dayOfWeek', 'cal:dayofyear',\n",
       "       'cal:month', 'cal:quarter', 'cal:weekofyear', 'cal:year'],\n",
       "      dtype='object')"
      ]
     },
     "execution_count": 61,
     "metadata": {},
     "output_type": "execute_result"
    }
   ],
   "source": [
    "eval_df.columns"
   ]
  },
  {
   "cell_type": "code",
   "execution_count": 62,
   "metadata": {
    "collapsed": false
   },
   "outputs": [],
   "source": [
    "eval_df.fillna(0, inplace=True)"
   ]
  },
  {
   "cell_type": "code",
   "execution_count": 63,
   "metadata": {
    "collapsed": false
   },
   "outputs": [
    {
     "name": "stderr",
     "output_type": "stream",
     "text": [
      "/opt/conda/lib/python3.4/site-packages/ipykernel/__main__.py:11: SettingWithCopyWarning: \n",
      "A value is trying to be set on a copy of a slice from a DataFrame.\n",
      "Try using .loc[row_indexer,col_indexer] = value instead\n",
      "\n",
      "See the the caveats in the documentation: http://pandas.pydata.org/pandas-docs/stable/indexing.html#indexing-view-versus-copy\n",
      "/opt/conda/lib/python3.4/site-packages/ipykernel/__main__.py:12: SettingWithCopyWarning: \n",
      "A value is trying to be set on a copy of a slice from a DataFrame.\n",
      "Try using .loc[row_indexer,col_indexer] = value instead\n",
      "\n",
      "See the the caveats in the documentation: http://pandas.pydata.org/pandas-docs/stable/indexing.html#indexing-view-versus-copy\n",
      "/opt/conda/lib/python3.4/site-packages/ipykernel/__main__.py:11: SettingWithCopyWarning: \n",
      "A value is trying to be set on a copy of a slice from a DataFrame.\n",
      "Try using .loc[row_indexer,col_indexer] = value instead\n",
      "\n",
      "See the the caveats in the documentation: http://pandas.pydata.org/pandas-docs/stable/indexing.html#indexing-view-versus-copy\n",
      "/opt/conda/lib/python3.4/site-packages/ipykernel/__main__.py:12: SettingWithCopyWarning: \n",
      "A value is trying to be set on a copy of a slice from a DataFrame.\n",
      "Try using .loc[row_indexer,col_indexer] = value instead\n",
      "\n",
      "See the the caveats in the documentation: http://pandas.pydata.org/pandas-docs/stable/indexing.html#indexing-view-versus-copy\n"
     ]
    },
    {
     "name": "stdout",
     "output_type": "stream",
     "text": [
      "3900\n",
      "40003900\n",
      "4000\n",
      "4100\n",
      "4100\n",
      "4200\n",
      "4200\n",
      "4300\n",
      "4300\n",
      "4400\n",
      "4400\n",
      "4500\n",
      "4500\n",
      "4600\n",
      "4600\n",
      "\n"
     ]
    }
   ],
   "source": [
    "partials = []\n",
    "\n",
    "features = [col for col in eval_df.columns if col != 'Sales' and col != 'Customers' and col != \"Id\"]\n",
    "for store in eval_df['Store'].unique():\n",
    "\n",
    "    if (i % 100 == 0):\n",
    "        print (i)\n",
    "    i = i + 1\n",
    "    \n",
    "    store_test_df = eval_df[eval_df['Store'] == store]\n",
    "    store_test_df['Predict-all_in_one'] = regressor_big.predict(store_test_df[features])\n",
    "    store_test_df['Predict-by_store'] = regressors[store].predict(store_test_df[features])\n",
    "    \n",
    "    partials.append(store_test_df)\n",
    "eval_df = pandas.concat(partials)"
   ]
  },
  {
   "cell_type": "code",
   "execution_count": 68,
   "metadata": {
    "collapsed": false
   },
   "outputs": [],
   "source": [
    "del eval_df['Sales_x']\n",
    "del eval_df['Sales_y']"
   ]
  },
  {
   "cell_type": "code",
   "execution_count": 69,
   "metadata": {
    "collapsed": false
   },
   "outputs": [],
   "source": [
    "def calculate_means(df):\n",
    "    means = df.groupby([ 'Store', 'DayOfWeek', 'Promo' ])['Sales'].mean()\n",
    "    means = means.reset_index()\n",
    "    return means\n",
    "\n",
    "\n",
    "eval_df = pandas.merge(eval_df, calculate_means(train_all_df), on = ['Store','DayOfWeek','Promo'], how='left')\n",
    "\n",
    "eval_df['Predict-mean'] = eval_df['Sales']\n",
    "del eval_df['Sales']\n",
    "\n",
    "eval_df.fillna(eval_df['Predict-mean'].mean(), inplace=True)\n"
   ]
  },
  {
   "cell_type": "code",
   "execution_count": 70,
   "metadata": {
    "collapsed": true
   },
   "outputs": [],
   "source": [
    "features = [col for col in test_ensemble_df.columns if col != 'Sales' and col != 'Customers']\n",
    "predictions = regressor_ensemble.predict(eval_df[features])"
   ]
  },
  {
   "cell_type": "code",
   "execution_count": null,
   "metadata": {
    "collapsed": true
   },
   "outputs": [],
   "source": []
  },
  {
   "cell_type": "code",
   "execution_count": 73,
   "metadata": {
    "collapsed": false
   },
   "outputs": [],
   "source": [
    "eval_df['Predictions'] = predictions"
   ]
  },
  {
   "cell_type": "code",
   "execution_count": 74,
   "metadata": {
    "collapsed": true
   },
   "outputs": [],
   "source": [
    "ensemble_results = eval_df[['Id', 'Predictions']]\n",
    "ensemble_results.columns=['Id', 'Sales']\n",
    "ensemble_results.to_csv( \"results-ensemble.csv\", index = False )"
   ]
  },
  {
   "cell_type": "code",
   "execution_count": null,
   "metadata": {
    "collapsed": true
   },
   "outputs": [],
   "source": []
  }
 ],
 "metadata": {
  "kernelspec": {
   "display_name": "Python 3",
   "language": "python",
   "name": "python3"
  },
  "language_info": {
   "codemirror_mode": {
    "name": "ipython",
    "version": 3
   },
   "file_extension": ".py",
   "mimetype": "text/x-python",
   "name": "python",
   "nbconvert_exporter": "python",
   "pygments_lexer": "ipython3",
   "version": "3.4.3"
  }
 },
 "nbformat": 4,
 "nbformat_minor": 0
}
