{
 "cells": [
  {
   "cell_type": "markdown",
   "metadata": {},
   "source": [
    "### Feature Engineering - Combined\n",
    "This notebook combines all features from the various Feature Engineering notebooks.\n",
    "\n",
    "The Result:\n",
    "    - train-featurized.csv & test-featurized.csv - the original train.csv and test.csv combined with all available features"
   ]
  },
  {
   "cell_type": "code",
   "execution_count": 1,
   "metadata": {
    "collapsed": true
   },
   "outputs": [],
   "source": [
    "# PyData\n",
    "import pandas\n",
    "import numpy\n",
    "from pandas import DataFrame, Series\n",
    "from sklearn import datasets, linear_model, preprocessing, cross_validation\n",
    "from sklearn.ensemble import RandomForestRegressor, ExtraTreesRegressor\n",
    "from sklearn.linear_model import LinearRegression, Ridge\n",
    "\n",
    "# System\n",
    "import datetime\n",
    "import os\n",
    "import math\n",
    "\n",
    "# Graphing\n",
    "#%matplotlib inline # Only works on Python 3 in the docker container\n",
    "#import seaborn # Only works on Python 3 in the docker container\n",
    "\n",
    "#os.environ['PYSPARK_PYTHON'] = 'python2'\n",
    "\n",
    "%matplotlib inline\n"
   ]
  },
  {
   "cell_type": "markdown",
   "metadata": {},
   "source": [
    "# Featurize Training Data"
   ]
  },
  {
   "cell_type": "code",
   "execution_count": 2,
   "metadata": {
    "collapsed": false
   },
   "outputs": [],
   "source": [
    "df_basic = DataFrame.from_csv(\"train_features_basic.csv\", index_col=['Date', 'Store'])\n",
    "df_means = DataFrame.from_csv(\"train-features-predicted_mean.csv\", index_col=['Date', 'Store'])\n",
    "df_customers = DataFrame.from_csv(\"train-features-predicted_mean-customers.csv\", index_col=['Date', 'Store'])"
   ]
  },
  {
   "cell_type": "code",
   "execution_count": 3,
   "metadata": {
    "collapsed": false
   },
   "outputs": [
    {
     "name": "stderr",
     "output_type": "stream",
     "text": [
      "/opt/conda/lib/python3.4/site-packages/pandas/io/parsers.py:1170: DtypeWarning: Columns (7) have mixed types. Specify dtype option on import or set low_memory=False.\n",
      "  data = self._reader.read(nrows)\n"
     ]
    }
   ],
   "source": [
    "df_sales = DataFrame.from_csv(\"train.csv\", index_col=['Date', 'Store'])[['Sales', 'Customers']]"
   ]
  },
  {
   "cell_type": "code",
   "execution_count": 4,
   "metadata": {
    "collapsed": false
   },
   "outputs": [],
   "source": [
    "df_features = df_means.join(df_basic, how='outer')\n",
    "train_df = df_sales.join(df_features)"
   ]
  },
  {
   "cell_type": "code",
   "execution_count": 5,
   "metadata": {
    "collapsed": true
   },
   "outputs": [],
   "source": [
    "train_df['Sales_predicted'] = train_df['Sales_predicted'].fillna(train_df['Sales_predicted'].mean())\n",
    "train_df['Sales_predicted'] = train_df['Sales_predicted'].map(lambda x: int(x))\n",
    "\n",
    "train_df['Sales_predicted_by_mean'] = train_df['Sales_predicted']\n",
    "del train_df['Sales_predicted']"
   ]
  },
  {
   "cell_type": "code",
   "execution_count": 6,
   "metadata": {
    "collapsed": false
   },
   "outputs": [
    {
     "data": {
      "text/html": [
       "<div>\n",
       "<table border=\"1\" class=\"dataframe\">\n",
       "  <thead>\n",
       "    <tr style=\"text-align: right;\">\n",
       "      <th></th>\n",
       "      <th></th>\n",
       "      <th>Sales</th>\n",
       "      <th>Customers</th>\n",
       "      <th>DayOfWeek</th>\n",
       "      <th>Open</th>\n",
       "      <th>Promo</th>\n",
       "      <th>StateHoliday</th>\n",
       "      <th>SchoolHoliday</th>\n",
       "      <th>cal:dayOfMonth</th>\n",
       "      <th>cal:dayOfWeek</th>\n",
       "      <th>cal:dayofyear</th>\n",
       "      <th>cal:month</th>\n",
       "      <th>cal:quarter</th>\n",
       "      <th>cal:weekofyear</th>\n",
       "      <th>cal:year</th>\n",
       "      <th>Sales_predicted_by_mean</th>\n",
       "    </tr>\n",
       "    <tr>\n",
       "      <th>Date</th>\n",
       "      <th>Store</th>\n",
       "      <th></th>\n",
       "      <th></th>\n",
       "      <th></th>\n",
       "      <th></th>\n",
       "      <th></th>\n",
       "      <th></th>\n",
       "      <th></th>\n",
       "      <th></th>\n",
       "      <th></th>\n",
       "      <th></th>\n",
       "      <th></th>\n",
       "      <th></th>\n",
       "      <th></th>\n",
       "      <th></th>\n",
       "      <th></th>\n",
       "    </tr>\n",
       "  </thead>\n",
       "  <tbody>\n",
       "    <tr>\n",
       "      <th rowspan=\"5\" valign=\"top\">2015-07-31</th>\n",
       "      <th>1</th>\n",
       "      <td>5263</td>\n",
       "      <td>555</td>\n",
       "      <td>5</td>\n",
       "      <td>1</td>\n",
       "      <td>1</td>\n",
       "      <td>0</td>\n",
       "      <td>1</td>\n",
       "      <td>31</td>\n",
       "      <td>4</td>\n",
       "      <td>212</td>\n",
       "      <td>7</td>\n",
       "      <td>3</td>\n",
       "      <td>31</td>\n",
       "      <td>2015</td>\n",
       "      <td>5145</td>\n",
       "    </tr>\n",
       "    <tr>\n",
       "      <th>2</th>\n",
       "      <td>6064</td>\n",
       "      <td>625</td>\n",
       "      <td>5</td>\n",
       "      <td>1</td>\n",
       "      <td>1</td>\n",
       "      <td>0</td>\n",
       "      <td>1</td>\n",
       "      <td>31</td>\n",
       "      <td>4</td>\n",
       "      <td>212</td>\n",
       "      <td>7</td>\n",
       "      <td>3</td>\n",
       "      <td>31</td>\n",
       "      <td>2015</td>\n",
       "      <td>5115</td>\n",
       "    </tr>\n",
       "    <tr>\n",
       "      <th>3</th>\n",
       "      <td>8314</td>\n",
       "      <td>821</td>\n",
       "      <td>5</td>\n",
       "      <td>1</td>\n",
       "      <td>1</td>\n",
       "      <td>0</td>\n",
       "      <td>1</td>\n",
       "      <td>31</td>\n",
       "      <td>4</td>\n",
       "      <td>212</td>\n",
       "      <td>7</td>\n",
       "      <td>3</td>\n",
       "      <td>31</td>\n",
       "      <td>2015</td>\n",
       "      <td>8138</td>\n",
       "    </tr>\n",
       "    <tr>\n",
       "      <th>4</th>\n",
       "      <td>13995</td>\n",
       "      <td>1498</td>\n",
       "      <td>5</td>\n",
       "      <td>1</td>\n",
       "      <td>1</td>\n",
       "      <td>0</td>\n",
       "      <td>1</td>\n",
       "      <td>31</td>\n",
       "      <td>4</td>\n",
       "      <td>212</td>\n",
       "      <td>7</td>\n",
       "      <td>3</td>\n",
       "      <td>31</td>\n",
       "      <td>2015</td>\n",
       "      <td>10275</td>\n",
       "    </tr>\n",
       "    <tr>\n",
       "      <th>5</th>\n",
       "      <td>4822</td>\n",
       "      <td>559</td>\n",
       "      <td>5</td>\n",
       "      <td>1</td>\n",
       "      <td>1</td>\n",
       "      <td>0</td>\n",
       "      <td>1</td>\n",
       "      <td>31</td>\n",
       "      <td>4</td>\n",
       "      <td>212</td>\n",
       "      <td>7</td>\n",
       "      <td>3</td>\n",
       "      <td>31</td>\n",
       "      <td>2015</td>\n",
       "      <td>5308</td>\n",
       "    </tr>\n",
       "  </tbody>\n",
       "</table>\n",
       "</div>"
      ],
      "text/plain": [
       "                  Sales  Customers  DayOfWeek  Open  Promo  StateHoliday  \\\n",
       "Date       Store                                                           \n",
       "2015-07-31 1       5263        555          5     1      1             0   \n",
       "           2       6064        625          5     1      1             0   \n",
       "           3       8314        821          5     1      1             0   \n",
       "           4      13995       1498          5     1      1             0   \n",
       "           5       4822        559          5     1      1             0   \n",
       "\n",
       "                  SchoolHoliday  cal:dayOfMonth  cal:dayOfWeek  cal:dayofyear  \\\n",
       "Date       Store                                                                \n",
       "2015-07-31 1                  1              31              4            212   \n",
       "           2                  1              31              4            212   \n",
       "           3                  1              31              4            212   \n",
       "           4                  1              31              4            212   \n",
       "           5                  1              31              4            212   \n",
       "\n",
       "                  cal:month  cal:quarter  cal:weekofyear  cal:year  \\\n",
       "Date       Store                                                     \n",
       "2015-07-31 1              7            3              31      2015   \n",
       "           2              7            3              31      2015   \n",
       "           3              7            3              31      2015   \n",
       "           4              7            3              31      2015   \n",
       "           5              7            3              31      2015   \n",
       "\n",
       "                  Sales_predicted_by_mean  \n",
       "Date       Store                           \n",
       "2015-07-31 1                         5145  \n",
       "           2                         5115  \n",
       "           3                         8138  \n",
       "           4                        10275  \n",
       "           5                         5308  "
      ]
     },
     "execution_count": 6,
     "metadata": {},
     "output_type": "execute_result"
    }
   ],
   "source": [
    "train_df.head()"
   ]
  },
  {
   "cell_type": "code",
   "execution_count": 7,
   "metadata": {
    "collapsed": false
   },
   "outputs": [],
   "source": [
    "train_df.to_csv(\"train-featurized.csv\")"
   ]
  },
  {
   "cell_type": "markdown",
   "metadata": {},
   "source": [
    "# Featurize Test Data"
   ]
  },
  {
   "cell_type": "code",
   "execution_count": 8,
   "metadata": {
    "collapsed": false
   },
   "outputs": [],
   "source": [
    "df_basic = DataFrame.from_csv(\"test_features_basic.csv\", index_col=['Date', 'Store'])\n",
    "df_means = DataFrame.from_csv(\"test-features-predicted_mean.csv\", index_col=['Date', 'Store'])\n",
    "df_customers = DataFrame.from_csv(\"test-features-predicted_customers.csv\", index_col='Id')\n"
   ]
  },
  {
   "cell_type": "code",
   "execution_count": 9,
   "metadata": {
    "collapsed": false
   },
   "outputs": [],
   "source": [
    "del df_basic['Id']\n",
    "test_df = DataFrame.from_csv(\"test.csv\", index_col=['Date', 'Store'])[['Id']]"
   ]
  },
  {
   "cell_type": "code",
   "execution_count": 10,
   "metadata": {
    "collapsed": false
   },
   "outputs": [],
   "source": [
    "test_df = test_df.join(df_basic, how='left')"
   ]
  },
  {
   "cell_type": "code",
   "execution_count": 11,
   "metadata": {
    "collapsed": true
   },
   "outputs": [],
   "source": [
    "test_df = test_df.join(df_means, how='left')"
   ]
  },
  {
   "cell_type": "code",
   "execution_count": 12,
   "metadata": {
    "collapsed": false
   },
   "outputs": [],
   "source": [
    "test_df.reset_index(inplace=True)\n",
    "test_df.set_index(\"Id\", inplace=True)"
   ]
  },
  {
   "cell_type": "code",
   "execution_count": 13,
   "metadata": {
    "collapsed": true
   },
   "outputs": [],
   "source": [
    "test_df = test_df.join(df_customers, how='left')"
   ]
  },
  {
   "cell_type": "code",
   "execution_count": 14,
   "metadata": {
    "collapsed": true
   },
   "outputs": [],
   "source": [
    "test_df['Sales_predicted'] = test_df['Sales_predicted'].fillna(test_df['Sales_predicted'].mean())\n",
    "test_df['Sales_predicted'] = test_df['Sales_predicted'].map(lambda x: int(x))\n",
    "\n",
    "test_df['Sales_predicted_by_mean'] = test_df['Sales_predicted']\n",
    "del test_df['Sales_predicted']"
   ]
  },
  {
   "cell_type": "code",
   "execution_count": 15,
   "metadata": {
    "collapsed": true
   },
   "outputs": [],
   "source": [
    "test_df['Customers'] = test_df['Prediction']\n",
    "del test_df['Prediction']"
   ]
  },
  {
   "cell_type": "code",
   "execution_count": 16,
   "metadata": {
    "collapsed": false
   },
   "outputs": [],
   "source": [
    "\n",
    "test_df['Open'] = test_df['Open'].fillna(1)"
   ]
  },
  {
   "cell_type": "code",
   "execution_count": 17,
   "metadata": {
    "collapsed": false
   },
   "outputs": [
    {
     "data": {
      "text/html": [
       "<div>\n",
       "<table border=\"1\" class=\"dataframe\">\n",
       "  <thead>\n",
       "    <tr style=\"text-align: right;\">\n",
       "      <th></th>\n",
       "      <th>Date</th>\n",
       "      <th>Store</th>\n",
       "      <th>DayOfWeek</th>\n",
       "      <th>Open</th>\n",
       "      <th>Promo</th>\n",
       "      <th>StateHoliday</th>\n",
       "      <th>SchoolHoliday</th>\n",
       "      <th>cal:dayOfMonth</th>\n",
       "      <th>cal:dayOfWeek</th>\n",
       "      <th>cal:dayofyear</th>\n",
       "      <th>cal:month</th>\n",
       "      <th>cal:quarter</th>\n",
       "      <th>cal:weekofyear</th>\n",
       "      <th>cal:year</th>\n",
       "      <th>Sales_predicted_by_mean</th>\n",
       "      <th>Customers</th>\n",
       "    </tr>\n",
       "    <tr>\n",
       "      <th>Id</th>\n",
       "      <th></th>\n",
       "      <th></th>\n",
       "      <th></th>\n",
       "      <th></th>\n",
       "      <th></th>\n",
       "      <th></th>\n",
       "      <th></th>\n",
       "      <th></th>\n",
       "      <th></th>\n",
       "      <th></th>\n",
       "      <th></th>\n",
       "      <th></th>\n",
       "      <th></th>\n",
       "      <th></th>\n",
       "      <th></th>\n",
       "      <th></th>\n",
       "    </tr>\n",
       "  </thead>\n",
       "  <tbody>\n",
       "    <tr>\n",
       "      <th>1</th>\n",
       "      <td>2015-09-17</td>\n",
       "      <td>1</td>\n",
       "      <td>4</td>\n",
       "      <td>1</td>\n",
       "      <td>1</td>\n",
       "      <td>0</td>\n",
       "      <td>0</td>\n",
       "      <td>17</td>\n",
       "      <td>3</td>\n",
       "      <td>260</td>\n",
       "      <td>9</td>\n",
       "      <td>3</td>\n",
       "      <td>38</td>\n",
       "      <td>2015</td>\n",
       "      <td>4961</td>\n",
       "      <td>528.441265</td>\n",
       "    </tr>\n",
       "    <tr>\n",
       "      <th>2</th>\n",
       "      <td>2015-09-17</td>\n",
       "      <td>3</td>\n",
       "      <td>4</td>\n",
       "      <td>1</td>\n",
       "      <td>1</td>\n",
       "      <td>0</td>\n",
       "      <td>0</td>\n",
       "      <td>17</td>\n",
       "      <td>3</td>\n",
       "      <td>260</td>\n",
       "      <td>9</td>\n",
       "      <td>3</td>\n",
       "      <td>38</td>\n",
       "      <td>2015</td>\n",
       "      <td>7994</td>\n",
       "      <td>799.069934</td>\n",
       "    </tr>\n",
       "    <tr>\n",
       "      <th>3</th>\n",
       "      <td>2015-09-17</td>\n",
       "      <td>7</td>\n",
       "      <td>4</td>\n",
       "      <td>1</td>\n",
       "      <td>1</td>\n",
       "      <td>0</td>\n",
       "      <td>0</td>\n",
       "      <td>17</td>\n",
       "      <td>3</td>\n",
       "      <td>260</td>\n",
       "      <td>9</td>\n",
       "      <td>3</td>\n",
       "      <td>38</td>\n",
       "      <td>2015</td>\n",
       "      <td>9406</td>\n",
       "      <td>950.083264</td>\n",
       "    </tr>\n",
       "    <tr>\n",
       "      <th>4</th>\n",
       "      <td>2015-09-17</td>\n",
       "      <td>8</td>\n",
       "      <td>4</td>\n",
       "      <td>1</td>\n",
       "      <td>1</td>\n",
       "      <td>0</td>\n",
       "      <td>0</td>\n",
       "      <td>17</td>\n",
       "      <td>3</td>\n",
       "      <td>260</td>\n",
       "      <td>9</td>\n",
       "      <td>3</td>\n",
       "      <td>38</td>\n",
       "      <td>2015</td>\n",
       "      <td>7194</td>\n",
       "      <td>817.549724</td>\n",
       "    </tr>\n",
       "    <tr>\n",
       "      <th>5</th>\n",
       "      <td>2015-09-17</td>\n",
       "      <td>9</td>\n",
       "      <td>4</td>\n",
       "      <td>1</td>\n",
       "      <td>1</td>\n",
       "      <td>0</td>\n",
       "      <td>0</td>\n",
       "      <td>17</td>\n",
       "      <td>3</td>\n",
       "      <td>260</td>\n",
       "      <td>9</td>\n",
       "      <td>3</td>\n",
       "      <td>38</td>\n",
       "      <td>2015</td>\n",
       "      <td>6777</td>\n",
       "      <td>572.575898</td>\n",
       "    </tr>\n",
       "  </tbody>\n",
       "</table>\n",
       "</div>"
      ],
      "text/plain": [
       "         Date  Store  DayOfWeek  Open  Promo  StateHoliday  SchoolHoliday  \\\n",
       "Id                                                                          \n",
       "1  2015-09-17      1          4     1      1             0              0   \n",
       "2  2015-09-17      3          4     1      1             0              0   \n",
       "3  2015-09-17      7          4     1      1             0              0   \n",
       "4  2015-09-17      8          4     1      1             0              0   \n",
       "5  2015-09-17      9          4     1      1             0              0   \n",
       "\n",
       "    cal:dayOfMonth  cal:dayOfWeek  cal:dayofyear  cal:month  cal:quarter  \\\n",
       "Id                                                                         \n",
       "1               17              3            260          9            3   \n",
       "2               17              3            260          9            3   \n",
       "3               17              3            260          9            3   \n",
       "4               17              3            260          9            3   \n",
       "5               17              3            260          9            3   \n",
       "\n",
       "    cal:weekofyear  cal:year  Sales_predicted_by_mean   Customers  \n",
       "Id                                                                 \n",
       "1               38      2015                     4961  528.441265  \n",
       "2               38      2015                     7994  799.069934  \n",
       "3               38      2015                     9406  950.083264  \n",
       "4               38      2015                     7194  817.549724  \n",
       "5               38      2015                     6777  572.575898  "
      ]
     },
     "execution_count": 17,
     "metadata": {},
     "output_type": "execute_result"
    }
   ],
   "source": [
    "test_df.head()"
   ]
  },
  {
   "cell_type": "code",
   "execution_count": 18,
   "metadata": {
    "collapsed": true
   },
   "outputs": [],
   "source": [
    "test_df.to_csv(\"test-featurized.csv\")"
   ]
  },
  {
   "cell_type": "code",
   "execution_count": null,
   "metadata": {
    "collapsed": true
   },
   "outputs": [],
   "source": []
  }
 ],
 "metadata": {
  "kernelspec": {
   "display_name": "Python 3",
   "language": "python",
   "name": "python3"
  },
  "language_info": {
   "codemirror_mode": {
    "name": "ipython",
    "version": 3
   },
   "file_extension": ".py",
   "mimetype": "text/x-python",
   "name": "python",
   "nbconvert_exporter": "python",
   "pygments_lexer": "ipython3",
   "version": "3.4.3"
  }
 },
 "nbformat": 4,
 "nbformat_minor": 0
}
